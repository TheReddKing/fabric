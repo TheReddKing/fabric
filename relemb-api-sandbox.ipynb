{
 "cells": [
  {
   "cell_type": "markdown",
   "metadata": {},
   "source": [
    "## Relational Embedding"
   ]
  },
  {
   "cell_type": "code",
   "execution_count": 1,
   "metadata": {},
   "outputs": [],
   "source": [
    "%load_ext autoreload\n",
    "%autoreload 2"
   ]
  },
  {
   "cell_type": "code",
   "execution_count": 2,
   "metadata": {
    "scrolled": true
   },
   "outputs": [
    {
     "name": "stdout",
     "output_type": "stream",
     "text": [
      "Time to load WE model: 21.407697200775146\n",
      "Time to build relemb: 9.63148021697998\n"
     ]
    }
   ],
   "source": [
    "from relational_embedder import api\n",
    "from relational_embedder.api import SIMF\n",
    "path_to_we_model = \"/home/ubuntu/word2vec_c/data/mitdwhdata.bin\"\n",
    "path_to_relations = \"/data/datasets/mitdwh/\"\n",
    "#api = api.init(path_to_we_model, path_to_relations)\n",
    "api = api.load(path_to_we_model=path_to_we_model, path_to_relemb=\"./mitdwhdata_relemb.pkl\", path_to_relations=path_to_relations)"
   ]
  },
  {
   "cell_type": "code",
   "execution_count": 4,
   "metadata": {
    "collapsed": true
   },
   "outputs": [],
   "source": [
    "# No need to run every time\n",
    "#api.serialize_relemb(\"mitdwhdata_relemb.pkl\")"
   ]
  },
  {
   "cell_type": "code",
   "execution_count": 3,
   "metadata": {},
   "outputs": [
    {
     "data": {
      "text/plain": [
       "0.9285714285714286"
      ]
     },
     "execution_count": 3,
     "metadata": {},
     "output_type": "execute_result"
    }
   ],
   "source": [
    "from difflib import SequenceMatcher\n",
    "SequenceMatcher(None, 'Samuel Madden', 'Samuel R Madden').ratio()"
   ]
  },
  {
   "cell_type": "code",
   "execution_count": 4,
   "metadata": {
    "scrolled": true
   },
   "outputs": [
    {
     "data": {
      "text/plain": [
       "[('database_systems', 0.7129748374230221),\n",
       " ('987515930', 0.6418825928846148),\n",
       " ('wu_bae-ian', 0.5728637112372508),\n",
       " ('madden_sam', 0.5505077032891253),\n",
       " ('6_830-madden2012sp:6_830', 0.5404241997345065),\n",
       " ('horn_berthold', 0.5310294368152235),\n",
       " ('6_830-fa142015fa:6_830', 0.5305813258991026),\n",
       " ('triantafyllou_michael', 0.5089553327786763),\n",
       " ('6_830-sp132013sp:6_830', 0.5017513928235873),\n",
       " ('hoyt_j', 0.4946458809456491),\n",
       " ('hagelstein_peter', 0.4904404832965847),\n",
       " ('leeb_steven', 0.48415991636954103),\n",
       " ('6_814-sp132013sp:6_814', 0.48036493671816505),\n",
       " ('6_814-fa142015fa:6_814', 0.4780627981044703),\n",
       " ('karger_david', 0.46838331664363614),\n",
       " ('orlando_terry', 0.4678678834459739),\n",
       " ('aaronson_scott', 0.4633199394003473),\n",
       " ('6_830-madden2010fa:6_830', 0.4618394999156519),\n",
       " ('6_840-fa142015fa:6_840', 0.4607145107102808),\n",
       " ('ram_rajeev', 0.46044810359906163)]"
      ]
     },
     "execution_count": 4,
     "metadata": {},
     "output_type": "execute_result"
    }
   ],
   "source": [
    "topk = api.topk_similar_vectors('Madden Samuel', k=20)\n",
    "topk"
   ]
  },
  {
   "cell_type": "code",
   "execution_count": 19,
   "metadata": {},
   "outputs": [
    {
     "data": {
      "text/plain": [
       "[('database_systems', 0.24233881571862992),\n",
       " ('987515930', 0.15369338857426773),\n",
       " ('wu_bae-ian', 0.07573126679797126),\n",
       " ('madden_sam', 0.0518519446297222),\n",
       " ('6_830-madden2012sp:6_830', 0.04127597475975742),\n",
       " ('horn_berthold', 0.03152631937939554),\n",
       " ('6_830-fa142015fa:6_830', 0.03106373849064148),\n",
       " ('triantafyllou_michael', 0.008995808753958112),\n",
       " ('6_830-sp132013sp:6_830', 0.0017528920682097215),\n",
       " ('hoyt_j', -0.005339910261132452),\n",
       " ('hagelstein_peter', -0.009514236230763418),\n",
       " ('leeb_steven', -0.01571654072645856),\n",
       " ('6_814-sp132013sp:6_814', -0.019446027407990618),\n",
       " ('6_814-fa142015fa:6_814', -0.021701738894042588),\n",
       " ('karger_david', -0.031132061019172763),\n",
       " ('orlando_terry', -0.03163186466972512),\n",
       " ('aaronson_scott', -0.03603093948061531),\n",
       " ('6_830-madden2010fa:6_830', -0.03745892374626969),\n",
       " ('6_840-fa142015fa:6_840', -0.038542739368728096),\n",
       " ('ram_rajeev', -0.03879925252548766)]"
      ]
     },
     "execution_count": 19,
     "metadata": {},
     "output_type": "execute_result"
    }
   ],
   "source": [
    "topk = api.topk_similar_vectors('Madden Samuel', k=20, simf=SIMF.EUCLIDEAN)\n",
    "topk"
   ]
  },
  {
   "cell_type": "code",
   "execution_count": 20,
   "metadata": {},
   "outputs": [
    {
     "data": {
      "text/plain": [
       "0.35145007656463223"
      ]
     },
     "execution_count": 20,
     "metadata": {},
     "output_type": "execute_result"
    }
   ],
   "source": [
    "sim = api.similarity_between('Madden Samuel', 'Madden Samuel R')\n",
    "sim"
   ]
  },
  {
   "cell_type": "code",
   "execution_count": 21,
   "metadata": {},
   "outputs": [
    {
     "data": {
      "text/plain": [
       "-0.13890294958712013"
      ]
     },
     "execution_count": 21,
     "metadata": {},
     "output_type": "execute_result"
    }
   ],
   "source": [
    "sim = api.similarity_between('Madden Samuel', 'Madden Samuel R', simf=SIMF.EUCLIDEAN)\n",
    "sim"
   ]
  },
  {
   "cell_type": "code",
   "execution_count": 19,
   "metadata": {},
   "outputs": [
    {
     "data": {
      "text/plain": [
       "[('madden_samuel', 0.6418825928846148),\n",
       " ('database_systems', 0.5814815506982656),\n",
       " ('madden_samuel_r', 0.5216549568539472),\n",
       " ('969180986', 0.507037756031686),\n",
       " ('srmadden', 0.4871656846029039),\n",
       " ('900040158', 0.48682806082005575),\n",
       " ('988099961', 0.4858504899397137),\n",
       " ('910016141', 0.47773598949573326),\n",
       " ('900054937', 0.47452886992265825),\n",
       " ('900022612', 0.4733348204659943)]"
      ]
     },
     "execution_count": 19,
     "metadata": {},
     "output_type": "execute_result"
    }
   ],
   "source": [
    "# observe what happens when i introduce the id\n",
    "res = api.topk_similar_vectors('987515930', k=10)\n",
    "res"
   ]
  },
  {
   "cell_type": "code",
   "execution_count": 5,
   "metadata": {},
   "outputs": [
    {
     "data": {
      "text/plain": [
       "[('Library_course_instructor.csv', 0.31857842436426309),\n",
       " ('Library_subject_offered.csv', 0.29435321245169943),\n",
       " ('short_tip_subject_offered.csv', 0.21326874738936374),\n",
       " ('subject_grouping_slice.csv', 0.19247622907613238),\n",
       " ('Sdo_crs_geocentric.csv', 0.17958230616778792)]"
      ]
     },
     "execution_count": 5,
     "metadata": {},
     "output_type": "execute_result"
    }
   ],
   "source": [
    "vec = api.vector_for_entity('Madden Samuel')\n",
    "topk = api.topk_relations(vec, k=5)\n",
    "topk"
   ]
  },
  {
   "cell_type": "code",
   "execution_count": 6,
   "metadata": {},
   "outputs": [
    {
     "data": {
      "text/plain": [
       "[('Library_course_instructor.csv', 0.037467854636819564),\n",
       " ('Library_subject_offered.csv', 0.0350791803168351),\n",
       " ('Sdo_crs_geocentric.csv', 0.012195035187861358),\n",
       " ('Sdo_crs_geographic3d.csv', 0.0077412883845559),\n",
       " ('short_tip_subject_offered.csv', 0.0010462905719483828)]"
      ]
     },
     "execution_count": 6,
     "metadata": {},
     "output_type": "execute_result"
    }
   ],
   "source": [
    "vec = api.vector_for_entity('Madden Samuel')\n",
    "topk = api.topk_relations(vec, k=5, simf=SIMF.EUCLIDEAN)\n",
    "topk"
   ]
  },
  {
   "cell_type": "code",
   "execution_count": 7,
   "metadata": {
    "scrolled": true
   },
   "outputs": [
    {
     "data": {
      "text/plain": [
       "[('Responsible Faculty Name',\n",
       "  'Library_subject_offered.csv',\n",
       "  0.51682458110745444),\n",
       " ('Instructor Name', 'Library_course_instructor.csv', 0.49618804988337362),\n",
       " ('Responsible Faculty Name',\n",
       "  'short_tip_subject_offered.csv',\n",
       "  0.40848544492362526),\n",
       " ('Warehouse Load Date', 'Library_subject_offered.csv', 0.30135651219604664),\n",
       " ('Library Subject Offered Key',\n",
       "  'Library_subject_offered.csv',\n",
       "  0.2899308980751516),\n",
       " ('Unit', 'Library_course_instructor.csv', 0.28937397272639598)]"
      ]
     },
     "execution_count": 7,
     "metadata": {},
     "output_type": "execute_result"
    }
   ],
   "source": [
    "vec = api.vector_for_entity('Madden Samuel')\n",
    "topk = api.topk_columns(vec, k=6)\n",
    "topk"
   ]
  },
  {
   "cell_type": "code",
   "execution_count": 8,
   "metadata": {},
   "outputs": [
    {
     "data": {
      "text/plain": [
       "[('Responsible Faculty Name',\n",
       "  'Library_subject_offered.csv',\n",
       "  0.14355357542106928),\n",
       " ('Instructor Name', 'Library_course_instructor.csv', 0.13059531855122375),\n",
       " ('Responsible Faculty Name',\n",
       "  'short_tip_subject_offered.csv',\n",
       "  0.08328505294699973),\n",
       " ('Library Subject Offered Key',\n",
       "  'Library_subject_offered.csv',\n",
       "  0.03323005816263902),\n",
       " ('Library Course Instructor Key',\n",
       "  'Library_course_instructor.csv',\n",
       "  0.029184951346477694),\n",
       " ('Shift X', 'Sdo_datums_old_snapshot.csv', 0.022234865679014004)]"
      ]
     },
     "execution_count": 8,
     "metadata": {},
     "output_type": "execute_result"
    }
   ],
   "source": [
    "vec = api.vector_for_entity('Madden Samuel')\n",
    "topk = api.topk_columns(vec, k=6, simf=SIMF.EUCLIDEAN)\n",
    "topk"
   ]
  },
  {
   "cell_type": "code",
   "execution_count": null,
   "metadata": {
    "collapsed": true
   },
   "outputs": [],
   "source": [
    "vec = api.vector_for_entity('Madden Samuel')\n",
    "topk = api.topk_rows(vec, k=5)\n",
    "topk"
   ]
  },
  {
   "cell_type": "code",
   "execution_count": 9,
   "metadata": {
    "scrolled": true
   },
   "outputs": [
    {
     "data": {
      "text/plain": [
       "[('katabi_dina', 0.2620763345752194),\n",
       " ('6173246027', 0.24025065821678065),\n",
       " ('dina@csail_mit_edu', 0.23896212073782416),\n",
       " ('wenger_rich', 0.21775141487554264),\n",
       " ('dinaktbi', 0.1936179557694433),\n",
       " ('951111241', 0.18444792210514846),\n",
       " ('pribble_daniel', 0.18236975950919623),\n",
       " ('wenger_richard', 0.1822369772140558),\n",
       " ('vuletic@mit_edu', 0.18132656363077188),\n",
       " ('essigmann_ellen_m', 0.18048992697689886)]"
      ]
     },
     "execution_count": 9,
     "metadata": {},
     "output_type": "execute_result"
    }
   ],
   "source": [
    "res = api.analogy('madden_samuel_r', '32-g936', '32-g938')\n",
    "res"
   ]
  },
  {
   "cell_type": "code",
   "execution_count": null,
   "metadata": {
    "collapsed": true
   },
   "outputs": [],
   "source": [
    "topk = api.topk_similar_vectors('madden_samuel_r', k=10)\n",
    "topk"
   ]
  },
  {
   "cell_type": "code",
   "execution_count": 14,
   "metadata": {},
   "outputs": [
    {
     "data": {
      "text/plain": [
       "[('cadogan@ll_mit_edu', 0.41277815300323506),\n",
       " ('http://db_csail_mit_edu/madden', 0.39104304477665264),\n",
       " ('srmadden', 0.36991640945946269),\n",
       " ('madden@csail_mit_edu', 0.36534859753987814),\n",
       " ('alleyne_valerie', 0.32889755339959925),\n",
       " ('cadogan_karen_m', 0.30186159854621974),\n",
       " ('924559605', 0.2950289976639453),\n",
       " ('6172586643', 0.29210342947503665),\n",
       " ('regev_aviv', 0.26776101142053355),\n",
       " ('32-g938', 0.11589346222712127)]"
      ]
     },
     "execution_count": 14,
     "metadata": {},
     "output_type": "execute_result"
    }
   ],
   "source": [
    "res = api.concept_qa('madden_samuel_r', 'Employee_directory.csv', 'Email Address', n=10)\n",
    "res"
   ]
  },
  {
   "cell_type": "code",
   "execution_count": null,
   "metadata": {
    "collapsed": true
   },
   "outputs": [],
   "source": [
    "res = api.concept_qa('madden_samuel_r', 'Employee_directory.csv', 'Email Address', n=10, simf=SIMF.EUCLIDEAN)\n",
    "res"
   ]
  },
  {
   "cell_type": "code",
   "execution_count": null,
   "metadata": {
    "collapsed": true
   },
   "outputs": [],
   "source": []
  },
  {
   "cell_type": "code",
   "execution_count": 84,
   "metadata": {},
   "outputs": [
    {
     "data": {
      "text/plain": [
       "[('madden@csail_mit_edu', 0.36534859753987814)]"
      ]
     },
     "execution_count": 84,
     "metadata": {},
     "output_type": "execute_result"
    }
   ],
   "source": [
    "res = api.concept_qa_denoising('madden_samuel_r', 'Employee_directory.csv', 'Email Address', denoise_heuristic=1, n=5)\n",
    "res"
   ]
  },
  {
   "cell_type": "code",
   "execution_count": null,
   "metadata": {
    "collapsed": true,
    "scrolled": true
   },
   "outputs": [],
   "source": [
    "res = api.concept_qa('968548423', 'Employee_directory.csv', 'Office Phone', n=10)\n",
    "res"
   ]
  },
  {
   "cell_type": "code",
   "execution_count": null,
   "metadata": {
    "collapsed": true
   },
   "outputs": [],
   "source": [
    "res = api.concept_qa_denoising('968548423', 'Employee_directory.csv', 'Office Phone', n=10)\n",
    "res"
   ]
  },
  {
   "cell_type": "code",
   "execution_count": null,
   "metadata": {
    "collapsed": true
   },
   "outputs": [],
   "source": [
    "res = api.concept_qa('kimball@mit.edu', 'Employee_directory.csv', 'Office Phone', n=5)\n",
    "res"
   ]
  },
  {
   "cell_type": "code",
   "execution_count": null,
   "metadata": {
    "collapsed": true
   },
   "outputs": [],
   "source": [
    "res = api.concept_qa_denoising('kimball@mit.edu', 'Employee_directory.csv', 'Office Phone', n=5)\n",
    "res"
   ]
  },
  {
   "cell_type": "markdown",
   "metadata": {},
   "source": [
    "### Exploring row-vec relation"
   ]
  },
  {
   "cell_type": "markdown",
   "metadata": {},
   "source": [
    "**Mit Id, Last Name, First Name, Middle Name, Full Name, Office Location, Office Phone, Department Number, Department Name, Krb Name, Email Address, Personal Url**\n",
    "\n",
    "*968548423, Kimball, Richard, W, Kimball,Richard W, 3-269, 6172539707, 65000 Dep. of Mechanical Engineering, kimball, kimball@mit.edu, (no url)*"
   ]
  },
  {
   "cell_type": "code",
   "execution_count": 17,
   "metadata": {
    "scrolled": true
   },
   "outputs": [
    {
     "data": {
      "text/plain": [
       "[('kimball_richard_w', 0.7250186764589754),\n",
       " ('6172539707', 0.5780908019186728),\n",
       " ('kimball', 0.5483184600358931),\n",
       " ('900052036', 0.5410229672339416),\n",
       " ('927045585', 0.5023900343660699),\n",
       " ('mclellan_kevin_d', 0.4971343695070636),\n",
       " ('3249637', 0.4955477420282758),\n",
       " ('3-269', 0.4931682849509945),\n",
       " ('928343794', 0.4908435492602725),\n",
       " ('900000389', 0.4618639603517394)]"
      ]
     },
     "execution_count": 17,
     "metadata": {},
     "output_type": "execute_result"
    }
   ],
   "source": [
    "res = api.topk_similar_vectors('968548423', k=10)\n",
    "res"
   ]
  },
  {
   "cell_type": "code",
   "execution_count": 13,
   "metadata": {
    "scrolled": false
   },
   "outputs": [
    {
     "data": {
      "text/plain": [
       "[('6172539707', 0.8129460395552874),\n",
       " ('968548423', 0.7250186764589754),\n",
       " ('kimball@mit_edu', 0.6074067685862561),\n",
       " ('3-269', 0.5736798852265613),\n",
       " ('mclellan_kevin_d', 0.5370343938901745),\n",
       " ('wilson_richard_w', 0.5321758314061601),\n",
       " ('kimball', 0.5068739904779622),\n",
       " ('garston_matthew_j', 0.4951196386309573),\n",
       " ('cuoco_richard_b', 0.49485903148742794),\n",
       " ('sullivan_richard_w', 0.4876790479092047)]"
      ]
     },
     "execution_count": 13,
     "metadata": {},
     "output_type": "execute_result"
    }
   ],
   "source": [
    "res = api.topk_similar_vectors('kimball_richard_w', k=10)\n",
    "res"
   ]
  },
  {
   "cell_type": "code",
   "execution_count": 20,
   "metadata": {},
   "outputs": [
    {
     "data": {
      "text/plain": [
       "[('kimball_richard_w', 0.8129460395552874),\n",
       " ('kimball@mit_edu', 0.7417044210216517),\n",
       " ('3-269', 0.5979994035741272),\n",
       " ('968548423', 0.5780908019186728),\n",
       " ('7819812663', 0.5600628548305208),\n",
       " ('6172580890', 0.5296960890276429),\n",
       " ('900000389', 0.5104179256447315),\n",
       " ('mduplessie@5-wits_com', 0.5075537125394329),\n",
       " ('6172521812', 0.4788894196608602),\n",
       " ('podoloff@mit_edu', 0.4787316627722139)]"
      ]
     },
     "execution_count": 20,
     "metadata": {},
     "output_type": "execute_result"
    }
   ],
   "source": [
    "res = api.topk_similar_vectors('6172539707', k=10)\n",
    "res"
   ]
  },
  {
   "cell_type": "code",
   "execution_count": 12,
   "metadata": {
    "scrolled": true
   },
   "outputs": [
    {
     "data": {
      "text/plain": [
       "[('968548423', 0.5483184600358931),\n",
       " ('kimball_richard_w', 0.5068739904779622),\n",
       " ('kimball_township', 0.4986258990399113),\n",
       " ('hawaii-noj', 0.4944372859818194),\n",
       " ('orc_sm', 0.49344520751537957),\n",
       " ('hicklin2', 0.468650574692114),\n",
       " ('55353', 0.4678833197210878),\n",
       " ('910006165', 0.46323332227903713),\n",
       " ('acl-ror-coalition', 0.457991460737341),\n",
       " ('7819811585', 0.45526744093539717)]"
      ]
     },
     "execution_count": 12,
     "metadata": {},
     "output_type": "execute_result"
    }
   ],
   "source": [
    "res = api.topk_similar_vectors('kimball', k=10)\n",
    "res"
   ]
  },
  {
   "cell_type": "code",
   "execution_count": 14,
   "metadata": {},
   "outputs": [
    {
     "data": {
      "text/plain": [
       "[('3-2-269', 0.6446704024315779),\n",
       " ('6172539707', 0.5979994035741272),\n",
       " ('kimball_richard_w', 0.5736798852265613),\n",
       " ('3-2-267e', 0.5620825672752245),\n",
       " ('784_24', 0.5603887666061109),\n",
       " ('3-269-201505', 0.5138520039849235),\n",
       " ('3-269a', 0.5024417504873565),\n",
       " ('968548423', 0.4931682849509945),\n",
       " ('3-267e', 0.4921089645404333),\n",
       " ('5-223e', 0.46351824567559924)]"
      ]
     },
     "execution_count": 14,
     "metadata": {},
     "output_type": "execute_result"
    }
   ],
   "source": [
    "res = api.topk_similar_vectors('3-269', k=10)\n",
    "res"
   ]
  },
  {
   "cell_type": "code",
   "execution_count": 15,
   "metadata": {},
   "outputs": [
    {
     "data": {
      "text/plain": [
       "[('david', 0.6014876246375217),\n",
       " ('john', 0.5896711580842966),\n",
       " ('robert', 0.5804079490265617),\n",
       " ('michael', 0.570901838852631),\n",
       " ('william', 0.5456058126832005),\n",
       " ('christopher', 0.542281778567466),\n",
       " ('stephen', 0.5417686252204659),\n",
       " ('george', 0.5407281947881049),\n",
       " ('james', 0.5370358067535486),\n",
       " ('daniel', 0.535614185293984)]"
      ]
     },
     "execution_count": 15,
     "metadata": {},
     "output_type": "execute_result"
    }
   ],
   "source": [
    "res = api.topk_similar_vectors('richard', k=10)\n",
    "res"
   ]
  },
  {
   "cell_type": "code",
   "execution_count": 16,
   "metadata": {},
   "outputs": [
    {
     "data": {
      "text/plain": [
       "[('m', 0.5063437823276751),\n",
       " ('r', 0.5029316132638273),\n",
       " ('j', 0.4815215970814507),\n",
       " ('a', 0.46914693881402625),\n",
       " ('f', 0.46682928486374387),\n",
       " ('david', 0.45239585840451824),\n",
       " ('richard', 0.4523346174822213),\n",
       " ('01/08/16_01:16_am', 0.44950321014075567),\n",
       " ('e', 0.4424572230642748),\n",
       " ('benjamin', 0.43901658968098345)]"
      ]
     },
     "execution_count": 16,
     "metadata": {},
     "output_type": "execute_result"
    }
   ],
   "source": [
    "res = api.topk_similar_vectors('w', k=10)\n",
    "res"
   ]
  },
  {
   "cell_type": "code",
   "execution_count": null,
   "metadata": {
    "collapsed": true
   },
   "outputs": [],
   "source": []
  },
  {
   "cell_type": "code",
   "execution_count": null,
   "metadata": {
    "collapsed": true
   },
   "outputs": [],
   "source": [
    "topk = api.topk_columns(api.vector_for_entity('6172539707'), k=5)\n",
    "topk"
   ]
  },
  {
   "cell_type": "code",
   "execution_count": null,
   "metadata": {
    "collapsed": true
   },
   "outputs": [],
   "source": [
    "topk = api.topk_columns(api.vector_for_entity('kimball@mit.edu'), k=5)\n",
    "topk"
   ]
  },
  {
   "cell_type": "code",
   "execution_count": null,
   "metadata": {
    "collapsed": true
   },
   "outputs": [],
   "source": [
    "res = api.concept_expansion('kimball@mit.edu', 'Employee_directory.csv', 'Email Address', k=5)\n",
    "res"
   ]
  },
  {
   "cell_type": "code",
   "execution_count": null,
   "metadata": {
    "collapsed": true
   },
   "outputs": [],
   "source": []
  },
  {
   "cell_type": "code",
   "execution_count": null,
   "metadata": {
    "collapsed": true
   },
   "outputs": [],
   "source": []
  },
  {
   "cell_type": "code",
   "execution_count": null,
   "metadata": {
    "collapsed": true
   },
   "outputs": [],
   "source": []
  },
  {
   "cell_type": "code",
   "execution_count": null,
   "metadata": {
    "collapsed": true
   },
   "outputs": [],
   "source": []
  },
  {
   "cell_type": "code",
   "execution_count": null,
   "metadata": {
    "collapsed": true
   },
   "outputs": [],
   "source": []
  },
  {
   "cell_type": "code",
   "execution_count": null,
   "metadata": {
    "collapsed": true
   },
   "outputs": [],
   "source": []
  },
  {
   "cell_type": "code",
   "execution_count": null,
   "metadata": {
    "collapsed": true
   },
   "outputs": [],
   "source": []
  },
  {
   "cell_type": "code",
   "execution_count": null,
   "metadata": {
    "collapsed": true
   },
   "outputs": [],
   "source": [
    "import word2vec\n",
    "import itertools\n",
    "import numpy as np\n",
    "from relational_embedder import composition\n",
    "from data_prep import data_prep_utils as dpu\n",
    "from scipy.spatial.distance import cosine\n",
    "import pandas as pd"
   ]
  },
  {
   "cell_type": "code",
   "execution_count": null,
   "metadata": {
    "collapsed": true
   },
   "outputs": [],
   "source": [
    "# Loading binary vectors\n",
    "model = word2vec.load(\"/home/ubuntu/word2vec_c/data/mitdwhdata.bin\")"
   ]
  },
  {
   "cell_type": "code",
   "execution_count": null,
   "metadata": {
    "collapsed": true,
    "scrolled": true
   },
   "outputs": [],
   "source": [
    "indexes, metrics = model.cosine('madden_samuel_r', n=20)\n",
    "res = model.generate_response(indexes, metrics).tolist()\n",
    "res"
   ]
  },
  {
   "cell_type": "code",
   "execution_count": null,
   "metadata": {
    "collapsed": true,
    "scrolled": true
   },
   "outputs": [],
   "source": [
    "indexes, metrics = model.cosine('32-g938', n=20)\n",
    "res = model.generate_response(indexes, metrics).tolist()\n",
    "res"
   ]
  },
  {
   "cell_type": "markdown",
   "metadata": {},
   "source": [
    "#### Basic Analogies"
   ]
  },
  {
   "cell_type": "code",
   "execution_count": null,
   "metadata": {
    "collapsed": true
   },
   "outputs": [],
   "source": [
    "indexes, metrics = model.analogy(pos=['madden_samuel_r', '32-g936'], neg=['32-g938'], n=10)"
   ]
  },
  {
   "cell_type": "code",
   "execution_count": null,
   "metadata": {
    "collapsed": true,
    "scrolled": true
   },
   "outputs": [],
   "source": [
    "res = model.generate_response(indexes, metrics).tolist()\n",
    "res"
   ]
  },
  {
   "cell_type": "markdown",
   "metadata": {},
   "source": [
    "#### Analogies across Relations"
   ]
  },
  {
   "cell_type": "code",
   "execution_count": null,
   "metadata": {
    "collapsed": true
   },
   "outputs": [],
   "source": [
    "indexes, metrics = model.analogy(pos=['gallop_sarah_e', '10-219'], neg=['11-245'], n=10)\n",
    "res = model.generate_response(indexes, metrics).tolist()\n",
    "res"
   ]
  },
  {
   "cell_type": "markdown",
   "metadata": {
    "collapsed": true
   },
   "source": [
    "## Baseline composition: Columns and Relations"
   ]
  },
  {
   "cell_type": "code",
   "execution_count": null,
   "metadata": {
    "collapsed": true
   },
   "outputs": [],
   "source": [
    "# Files\n",
    "import os\n",
    "path = \"/data/datasets/mitdwh/\"\n",
    "all_relations = [relation for relation in os.listdir(path)]"
   ]
  },
  {
   "cell_type": "code",
   "execution_count": null,
   "metadata": {
    "collapsed": true
   },
   "outputs": [],
   "source": [
    "composition_vectors = dict()"
   ]
  },
  {
   "cell_type": "code",
   "execution_count": null,
   "metadata": {
    "collapsed": true,
    "scrolled": true
   },
   "outputs": [],
   "source": [
    "for relation in all_relations:\n",
    "    print(\"Computing vectors for: \" + str(relation))\n",
    "    col_we, missing_words = composition.column_avg_composition(path + \"/\" + relation, model)\n",
    "    rel_we = composition.relation_column_composition(col_we)\n",
    "    composition_vectors[relation] = rel_we\n",
    "    for k, v in col_we.items():\n",
    "        composition_vectors[relation +\".\" + k] = col_we[k]\n",
    "print(\"Done!\")\n",
    "print(\"Total vectors: \" + str(len(composition_vectors.items())))"
   ]
  },
  {
   "cell_type": "code",
   "execution_count": null,
   "metadata": {
    "collapsed": true
   },
   "outputs": [],
   "source": [
    "# SERIALIZE\n",
    "import pickle\n",
    "path = \"./temp/composition_vectors.pkl\"\n",
    "with open(path, 'wb') as f:\n",
    "    pickle.dump(composition_vectors, f)"
   ]
  },
  {
   "cell_type": "code",
   "execution_count": null,
   "metadata": {
    "collapsed": true
   },
   "outputs": [],
   "source": [
    "# DESERIALIZE\n",
    "import pickle\n",
    "path = \"./temp/composition_vectors.pkl\"\n",
    "with open(path, 'rb') as f:\n",
    "    composition_vectors = pickle.load(f)"
   ]
  },
  {
   "cell_type": "code",
   "execution_count": null,
   "metadata": {
    "collapsed": true
   },
   "outputs": [],
   "source": [
    "def similar_to(table, column=None, threshold=0.2):\n",
    "    similar_items = []\n",
    "    if column is None:\n",
    "        key = table\n",
    "    else:\n",
    "        key = table + \".\" + column\n",
    "    for k, we in composition_vectors.items():\n",
    "        distance = 0\n",
    "        try:\n",
    "            distance = cosine(composition_vectors[key], composition_vectors[k])\n",
    "        except ValueError:\n",
    "            continue\n",
    "        if distance < threshold:\n",
    "            similar_items.append(k)\n",
    "    return similar_items"
   ]
  },
  {
   "cell_type": "code",
   "execution_count": null,
   "metadata": {
    "collapsed": true
   },
   "outputs": [],
   "source": [
    "table = \"Fac_building.csv\"\n",
    "column = \"Building Name Long\"\n",
    "#key = \"Tables.csv.Business Contact Email\"\n",
    "threshold = 0.2\n",
    "sim_items = similar_to(table, column=column)\n",
    "for el in sim_items:\n",
    "    print(str(el))"
   ]
  },
  {
   "cell_type": "code",
   "execution_count": null,
   "metadata": {
    "collapsed": true
   },
   "outputs": [],
   "source": [
    "table = \"Library_subject_offered.csv\"\n",
    "column = \"Course Number Desc\"\n",
    "sim_items = similar_to(table, column)\n",
    "for el in sim_items:\n",
    "    print(str(el))"
   ]
  },
  {
   "cell_type": "code",
   "execution_count": null,
   "metadata": {
    "collapsed": true,
    "scrolled": true
   },
   "outputs": [],
   "source": [
    "table = \"Warehouse_users.csv\"\n",
    "sim_items = similar_to(table)\n",
    "for el in sim_items:\n",
    "    print(str(el))"
   ]
  },
  {
   "cell_type": "code",
   "execution_count": null,
   "metadata": {
    "collapsed": true,
    "scrolled": false
   },
   "outputs": [],
   "source": [
    "table = \"Fac_building.csv\"\n",
    "sim_items = similar_to(table, threshold=0.1)\n",
    "for el in sim_items:\n",
    "    print(str(el))"
   ]
  },
  {
   "cell_type": "markdown",
   "metadata": {},
   "source": [
    "### Other examples"
   ]
  },
  {
   "cell_type": "code",
   "execution_count": null,
   "metadata": {
    "collapsed": true
   },
   "outputs": [],
   "source": [
    "path_to_relation = \"/data/datasets/mitdwh/Se_person.csv\"\n",
    "col_we_se, missing_words = composition.column_avg_composition(path_to_relation, model)"
   ]
  },
  {
   "cell_type": "code",
   "execution_count": null,
   "metadata": {
    "collapsed": true
   },
   "outputs": [],
   "source": [
    "path_to_relation = \"/data/datasets/mitdwh/Drupal_employee_directory.csv\"\n",
    "col_we_drupal, missing_words = composition.column_avg_composition(path_to_relation, model)"
   ]
  },
  {
   "cell_type": "code",
   "execution_count": null,
   "metadata": {
    "collapsed": true
   },
   "outputs": [],
   "source": [
    "se_vec = composition.relation_column_composition(col_we_se)\n",
    "drupal_vec = composition.relation_column_composition(col_we_drupal)"
   ]
  },
  {
   "cell_type": "code",
   "execution_count": null,
   "metadata": {
    "collapsed": true
   },
   "outputs": [],
   "source": [
    "cosine(se_vec, drupal_vec)"
   ]
  },
  {
   "cell_type": "code",
   "execution_count": null,
   "metadata": {
    "collapsed": true
   },
   "outputs": [],
   "source": [
    "for a, b in itertools.combinations(col_we_se.keys(), 2):\n",
    "    we_a = col_we_se[a]\n",
    "    we_b = col_we_se[b]\n",
    "\n",
    "    cos = cosine(we_a, we_b)\n",
    "    print(str(a) + \" -sim- \" + str(b) + \" is: \" + str(cos))"
   ]
  },
  {
   "cell_type": "markdown",
   "metadata": {
    "collapsed": true
   },
   "source": [
    "## Composition Rows"
   ]
  },
  {
   "cell_type": "code",
   "execution_count": null,
   "metadata": {
    "collapsed": true
   },
   "outputs": [],
   "source": [
    "path_to_relation = \"/data/datasets/mitdwh/Se_person.csv\"\n",
    "row_we, m_words = composition.row_avg_composition(path_to_relation, model)"
   ]
  },
  {
   "cell_type": "code",
   "execution_count": null,
   "metadata": {
    "collapsed": true
   },
   "outputs": [],
   "source": [
    "df = pd.read_csv(path_to_relation, encoding='latin1')"
   ]
  },
  {
   "cell_type": "code",
   "execution_count": null,
   "metadata": {
    "collapsed": true
   },
   "outputs": [],
   "source": [
    "row_ref = 0\n",
    "distances = []\n",
    "for i in range(len(row_we)):\n",
    "    distance = cosine(row_we[row_ref], row_we[i])\n",
    "    distances.append((i, distance))\n",
    "distances = sorted(distances, key=lambda x: x[1])"
   ]
  },
  {
   "cell_type": "code",
   "execution_count": null,
   "metadata": {
    "collapsed": true
   },
   "outputs": [],
   "source": [
    "len(distances)"
   ]
  },
  {
   "cell_type": "code",
   "execution_count": null,
   "metadata": {
    "collapsed": true
   },
   "outputs": [],
   "source": [
    "k = 10\n",
    "topk = []\n",
    "for i in range(k):\n",
    "    idx = distances[i]\n",
    "    row = df.iloc[idx[0]]\n",
    "    topk.append((row, distances[i]))"
   ]
  },
  {
   "cell_type": "code",
   "execution_count": null,
   "metadata": {
    "collapsed": true
   },
   "outputs": [],
   "source": [
    "df.iloc[0]"
   ]
  },
  {
   "cell_type": "code",
   "execution_count": null,
   "metadata": {
    "collapsed": true
   },
   "outputs": [],
   "source": [
    "topk[1]"
   ]
  },
  {
   "cell_type": "code",
   "execution_count": null,
   "metadata": {
    "collapsed": true
   },
   "outputs": [],
   "source": [
    "topk[2]"
   ]
  },
  {
   "cell_type": "code",
   "execution_count": null,
   "metadata": {
    "collapsed": true
   },
   "outputs": [],
   "source": [
    "topk[3]"
   ]
  },
  {
   "cell_type": "code",
   "execution_count": null,
   "metadata": {
    "collapsed": true
   },
   "outputs": [],
   "source": [
    "topk[4]"
   ]
  },
  {
   "cell_type": "markdown",
   "metadata": {},
   "source": [
    "## Operations across hierarchy"
   ]
  },
  {
   "cell_type": "code",
   "execution_count": null,
   "metadata": {
    "collapsed": true
   },
   "outputs": [],
   "source": [
    "def topk_similar(vec, composition_vectors):\n",
    "    distances = []\n",
    "    errors = 0\n",
    "    for key, value in composition_vectors.items():\n",
    "        try:\n",
    "            distance = cosine(vec, value)\n",
    "        except ValueError:\n",
    "            errors += 1\n",
    "            continue\n",
    "        distances.append((key, distance))\n",
    "    distances = sorted(distances, key=lambda x: x[1])\n",
    "    return distances, errors"
   ]
  },
  {
   "cell_type": "code",
   "execution_count": null,
   "metadata": {
    "collapsed": true
   },
   "outputs": [],
   "source": [
    "entity = 'madden_samuel_r'\n",
    "vec = model.get_vector(entity)"
   ]
  },
  {
   "cell_type": "code",
   "execution_count": null,
   "metadata": {
    "collapsed": true,
    "scrolled": true
   },
   "outputs": [],
   "source": [
    "distances, errors = topk_similar(vec, composition_vectors)\n",
    "print(\"ERRORS: \" + str(errors))"
   ]
  },
  {
   "cell_type": "code",
   "execution_count": null,
   "metadata": {
    "collapsed": true,
    "scrolled": true
   },
   "outputs": [],
   "source": [
    "for i in range(10):\n",
    "    print(str(distances[i]))"
   ]
  },
  {
   "cell_type": "markdown",
   "metadata": {},
   "source": [
    "#### Check rows"
   ]
  },
  {
   "cell_type": "code",
   "execution_count": null,
   "metadata": {
    "collapsed": true
   },
   "outputs": [],
   "source": [
    "distances = []\n",
    "for i in range(len(row_we)):\n",
    "    distance = cosine(vec, row_we[i])\n",
    "    distances.append((i, distance))\n",
    "distances = sorted(distances, key=lambda x: x[1])"
   ]
  },
  {
   "cell_type": "code",
   "execution_count": null,
   "metadata": {
    "collapsed": true
   },
   "outputs": [],
   "source": [
    "k = 10\n",
    "topk = []\n",
    "for i in range(k):\n",
    "    idx = distances[i]\n",
    "    row = df.iloc[idx[0]]\n",
    "    topk.append((row, distances[i]))"
   ]
  },
  {
   "cell_type": "code",
   "execution_count": null,
   "metadata": {
    "collapsed": true
   },
   "outputs": [],
   "source": [
    "topk[0]"
   ]
  },
  {
   "cell_type": "code",
   "execution_count": null,
   "metadata": {
    "collapsed": true
   },
   "outputs": [],
   "source": [
    "topk[1]"
   ]
  },
  {
   "cell_type": "code",
   "execution_count": null,
   "metadata": {
    "collapsed": true
   },
   "outputs": [],
   "source": [
    "topk[2]"
   ]
  },
  {
   "cell_type": "code",
   "execution_count": null,
   "metadata": {
    "collapsed": true
   },
   "outputs": [],
   "source": [
    "topk[3]"
   ]
  },
  {
   "cell_type": "markdown",
   "metadata": {
    "collapsed": true
   },
   "source": [
    "### Designing API"
   ]
  },
  {
   "cell_type": "code",
   "execution_count": null,
   "metadata": {
    "collapsed": true
   },
   "outputs": [],
   "source": [
    "def concept_qa(entity, attribute, n=20):\n",
    "    #vec_entity = model.get_vector(entity)\n",
    "    indexes, metrics = model.cosine(entity, n=n)\n",
    "    res = model.generate_response(indexes, metrics).tolist()\n",
    "    vec_attribute = composition_vectors[attribute]\n",
    "    candidate_attribute_sim = []\n",
    "    for e, score in res:\n",
    "        vec_e = model.get_vector(e)\n",
    "        distance = cosine(vec_e, vec_attribute)\n",
    "        candidate_attribute_sim.append((e, distance))\n",
    "    candidate_attribute_sim = sorted(candidate_attribute_sim, key=lambda x: x[1])\n",
    "    return candidate_attribute_sim\n",
    "\n",
    "def entity_to_attribute(entity, n=20):\n",
    "    indexes, metrics = model.cosine(entity, n=n)\n",
    "    res = model.generate_response(indexes, metrics).tolist()\n",
    "    res_attr = []\n",
    "    for e, score in res:\n",
    "        vec_e = model.get_vector(e)\n",
    "        distances, errors = topk_similar(vec_e, composition_vectors)\n",
    "        res_attr.append((e, score, distances[:4]))\n",
    "    return res_attr"
   ]
  },
  {
   "cell_type": "code",
   "execution_count": null,
   "metadata": {
    "collapsed": true
   },
   "outputs": [],
   "source": [
    "# finding attributes\n",
    "attribute = 'phone'\n",
    "candidates = []\n",
    "for key in composition_vectors.keys():\n",
    "    if (key.lower()).find(attribute) != -1:\n",
    "        candidates.append(key)\n",
    "candidates"
   ]
  },
  {
   "cell_type": "code",
   "execution_count": null,
   "metadata": {
    "collapsed": true
   },
   "outputs": [],
   "source": [
    "indexes, metrics = model.cosine('madden_samuel_r', n=20)\n",
    "res = model.generate_response(indexes, metrics).tolist()\n",
    "res"
   ]
  },
  {
   "cell_type": "code",
   "execution_count": null,
   "metadata": {
    "collapsed": true
   },
   "outputs": [],
   "source": [
    "entity_to_attribute('madden_samuel_r', n=20)"
   ]
  },
  {
   "cell_type": "code",
   "execution_count": null,
   "metadata": {
    "collapsed": true
   },
   "outputs": [],
   "source": [
    "concept_qa('madden_samuel_r', 'Employee_directory.csv.Krb Name', n=10)"
   ]
  },
  {
   "cell_type": "code",
   "execution_count": null,
   "metadata": {
    "collapsed": true
   },
   "outputs": [],
   "source": []
  }
 ],
 "metadata": {
  "kernelspec": {
   "display_name": "Python 3",
   "language": "python",
   "name": "python3"
  },
  "language_info": {
   "codemirror_mode": {
    "name": "ipython",
    "version": 3
   },
   "file_extension": ".py",
   "mimetype": "text/x-python",
   "name": "python",
   "nbconvert_exporter": "python",
   "pygments_lexer": "ipython3",
   "version": "3.6.2"
  }
 },
 "nbformat": 4,
 "nbformat_minor": 1
}
