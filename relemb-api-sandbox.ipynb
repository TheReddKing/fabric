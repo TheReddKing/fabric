{
 "cells": [
  {
   "cell_type": "markdown",
   "metadata": {},
   "source": [
    "## Relational Embedding"
   ]
  },
  {
   "cell_type": "code",
   "execution_count": 14,
   "metadata": {},
   "outputs": [
    {
     "name": "stdout",
     "output_type": "stream",
     "text": [
      "The autoreload extension is already loaded. To reload it, use:\n",
      "  %reload_ext autoreload\n"
     ]
    }
   ],
   "source": [
    "%load_ext autoreload\n",
    "%autoreload 2"
   ]
  },
  {
   "cell_type": "code",
   "execution_count": 2,
   "metadata": {},
   "outputs": [
    {
     "name": "stderr",
     "output_type": "stream",
     "text": [
      "/home/ubuntu/virtualenvs/fabric/lib/python3.5/site-packages/ipykernel_launcher.py:4: DtypeWarning: Columns (3) have mixed types. Specify dtype option on import or set low_memory=False.\n",
      "  after removing the cwd from sys.path.\n",
      "/home/ubuntu/virtualenvs/fabric/lib/python3.5/site-packages/ipykernel_launcher.py:4: DtypeWarning: Columns (2) have mixed types. Specify dtype option on import or set low_memory=False.\n",
      "  after removing the cwd from sys.path.\n",
      "/home/ubuntu/virtualenvs/fabric/lib/python3.5/site-packages/numpy/core/fromnumeric.py:2889: RuntimeWarning: Mean of empty slice.\n",
      "  out=out, **kwargs)\n",
      "/home/ubuntu/virtualenvs/fabric/lib/python3.5/site-packages/numpy/core/_methods.py:80: RuntimeWarning: invalid value encountered in double_scalars\n",
      "  ret = ret.dtype.type(ret / rcount)\n"
     ]
    }
   ],
   "source": [
    "from relational_embedder import api\n",
    "path_to_we_model = \"/home/ubuntu/word2vec_c/data/mitdwhdata.bin\"\n",
    "path_to_relations = \"/data/datasets/mitdwh/\"\n",
    "api = api.init(path_to_we_model, path_to_relations)"
   ]
  },
  {
   "cell_type": "code",
   "execution_count": 3,
   "metadata": {
    "scrolled": true
   },
   "outputs": [
    {
     "data": {
      "text/plain": [
       "[('database_systems', 0.7129748374230221),\n",
       " ('987515930', 0.6418825928846148),\n",
       " ('wu_bae-ian', 0.5728637112372508),\n",
       " ('madden_sam', 0.5505077032891253),\n",
       " ('6_830-madden2012sp:6_830', 0.5404241997345065)]"
      ]
     },
     "execution_count": 3,
     "metadata": {},
     "output_type": "execute_result"
    }
   ],
   "source": [
    "topk = api.topk_similar_vectors('Madden Samuel', k=5)\n",
    "topk"
   ]
  },
  {
   "cell_type": "code",
   "execution_count": null,
   "metadata": {
    "collapsed": true
   },
   "outputs": [],
   "source": [
    "sim = api.similarity_between('Madden Samuel', 'Madden Samuel R')\n",
    "sim"
   ]
  },
  {
   "cell_type": "code",
   "execution_count": 20,
   "metadata": {},
   "outputs": [
    {
     "data": {
      "text/plain": [
       "[('Library_course_instructor.csv', 0.31857842436426309),\n",
       " ('Library_subject_offered.csv', 0.29435321245169932),\n",
       " ('short_tip_subject_offered.csv', 0.21326874738936374),\n",
       " ('subject_grouping_slice.csv', 0.19247622907613238),\n",
       " ('Sdo_crs_geocentric.csv', 0.17958230616778792)]"
      ]
     },
     "execution_count": 20,
     "metadata": {},
     "output_type": "execute_result"
    }
   ],
   "source": [
    "vec = api.vector_for_entity('Madden Samuel')\n",
    "topk = api.topk_relations(vec, k=5)\n",
    "topk"
   ]
  },
  {
   "cell_type": "code",
   "execution_count": 21,
   "metadata": {
    "scrolled": true
   },
   "outputs": [
    {
     "data": {
      "text/plain": [
       "[('Responsible Faculty Name',\n",
       "  'Library_subject_offered.csv',\n",
       "  0.51682458110745444),\n",
       " ('Instructor Name', 'Library_course_instructor.csv', 0.49618804988337362),\n",
       " ('Responsible Faculty Name',\n",
       "  'short_tip_subject_offered.csv',\n",
       "  0.40848544492362526),\n",
       " ('Warehouse Load Date', 'Library_subject_offered.csv', 0.30135651219604664),\n",
       " ('Library Subject Offered Key',\n",
       "  'Library_subject_offered.csv',\n",
       "  0.2899308980751516)]"
      ]
     },
     "execution_count": 21,
     "metadata": {},
     "output_type": "execute_result"
    }
   ],
   "source": [
    "vec = api.vector_for_entity('Madden Samuel')\n",
    "topk = api.topk_columns(vec, k=5)\n",
    "topk"
   ]
  },
  {
   "cell_type": "code",
   "execution_count": 22,
   "metadata": {},
   "outputs": [
    {
     "data": {
      "text/plain": [
       "[(Library Course Instructor Key               6.830-FA142015FA:6.830\n",
       "  Course Name                                       Database Systems\n",
       "  Instructor Name                                     Madden, Samuel\n",
       "  Department                       6 - Electrical Eng & Computer Sci\n",
       "  Date From                                        09/02/14 12:00 AM\n",
       "  Date To                                          12/19/14 12:00 AM\n",
       "  Unit Code                                                      ENG\n",
       "  Unit                                                        Barker\n",
       "  Warehouse Load Date                              11/20/14 03:01 AM\n",
       "  Name: 9287, dtype: object,\n",
       "  'Library_course_instructor.csv',\n",
       "  0.66033785625146102),\n",
       " (Library Course Instructor Key               6.814-FA142015FA:6.814\n",
       "  Course Name                                       Database Systems\n",
       "  Instructor Name                                     Madden, Samuel\n",
       "  Department                       6 - Electrical Eng & Computer Sci\n",
       "  Date From                                        09/02/14 12:00 AM\n",
       "  Date To                                          12/19/14 12:00 AM\n",
       "  Unit Code                                                      ENG\n",
       "  Unit                                                        Barker\n",
       "  Warehouse Load Date                              11/20/14 03:01 AM\n",
       "  Name: 9286, dtype: object,\n",
       "  'Library_course_instructor.csv',\n",
       "  0.65198660964039079),\n",
       " (Library Course Instructor Key             6.814-MADDEN2012SP:6.814\n",
       "  Course Name                                       Database Systems\n",
       "  Instructor Name                                     Madden, Samuel\n",
       "  Department                       6 - Electrical Eng & Computer Sci\n",
       "  Date From                                        02/06/12 12:00 AM\n",
       "  Date To                                          06/08/12 12:00 AM\n",
       "  Unit Code                                                      ENG\n",
       "  Unit                                                        Barker\n",
       "  Warehouse Load Date                              05/09/12 03:01 AM\n",
       "  Name: 5429, dtype: object,\n",
       "  'Library_course_instructor.csv',\n",
       "  0.63550077483883127),\n",
       " (Library Course Instructor Key               6.830-SP132013SP:6.830\n",
       "  Course Name                                       Database Systems\n",
       "  Instructor Name                                     Madden, Samuel\n",
       "  Department                       6 - Electrical Eng & Computer Sci\n",
       "  Date From                                        02/04/13 12:00 AM\n",
       "  Date To                                          05/24/13 12:00 AM\n",
       "  Unit Code                                                      ENG\n",
       "  Unit                                                        Barker\n",
       "  Warehouse Load Date                              04/25/13 03:01 AM\n",
       "  Name: 7539, dtype: object,\n",
       "  'Library_course_instructor.csv',\n",
       "  0.61878059923641182),\n",
       " (Library Course Instructor Key               6.814-SP132013SP:6.814\n",
       "  Course Name                                       Database Systems\n",
       "  Instructor Name                                     Madden, Samuel\n",
       "  Department                       6 - Electrical Eng & Computer Sci\n",
       "  Date From                                        02/04/13 12:00 AM\n",
       "  Date To                                          05/24/13 12:00 AM\n",
       "  Unit Code                                                      ENG\n",
       "  Unit                                                        Barker\n",
       "  Warehouse Load Date                              04/25/13 03:01 AM\n",
       "  Name: 7538, dtype: object,\n",
       "  'Library_course_instructor.csv',\n",
       "  0.61512594582697966)]"
      ]
     },
     "execution_count": 22,
     "metadata": {},
     "output_type": "execute_result"
    }
   ],
   "source": [
    "vec = api.vector_for_entity('Madden Samuel')\n",
    "topk = api.topk_rows(vec, k=5)\n",
    "topk"
   ]
  },
  {
   "cell_type": "code",
   "execution_count": 23,
   "metadata": {},
   "outputs": [
    {
     "data": {
      "text/plain": [
       "[('katabi_dina', 0.2620763345752194),\n",
       " ('6173246027', 0.24025065821678065),\n",
       " ('dina@csail_mit_edu', 0.23896212073782416),\n",
       " ('wenger_rich', 0.21775141487554264),\n",
       " ('dinaktbi', 0.1936179557694433),\n",
       " ('951111241', 0.18444792210514846),\n",
       " ('pribble_daniel', 0.18236975950919623),\n",
       " ('wenger_richard', 0.1822369772140558),\n",
       " ('vuletic@mit_edu', 0.18132656363077188),\n",
       " ('essigmann_ellen_m', 0.18048992697689886)]"
      ]
     },
     "execution_count": 23,
     "metadata": {},
     "output_type": "execute_result"
    }
   ],
   "source": [
    "res = api.analogy('madden_samuel_r', '32-g936', '32-g938')\n",
    "res"
   ]
  },
  {
   "cell_type": "code",
   "execution_count": 4,
   "metadata": {},
   "outputs": [
    {
     "data": {
      "text/plain": [
       "[('cadogan@ll_mit_edu', 0.41277815300323506),\n",
       " ('valleyne', 0.39294814283723811),\n",
       " ('http://db_csail_mit_edu/madden', 0.39104304477665264),\n",
       " ('srmadden', 0.36991640945946269),\n",
       " ('madden@csail_mit_edu', 0.36534859753987814),\n",
       " ('julich_perez_april', 0.33649242630167464),\n",
       " ('alleyne_valerie', 0.32889755339959925),\n",
       " ('hanafin_nicole', 0.31990201235520044),\n",
       " ('cadogan_karen_m', 0.30186159854621974),\n",
       " ('nhuch_michelle_r', 0.30155983800577668),\n",
       " ('924559605', 0.2950289976639453),\n",
       " ('6172586643', 0.29210342947503665),\n",
       " ('saxe_rebecca_r', 0.27998015720717784),\n",
       " ('regev_aviv', 0.26776101142053355),\n",
       " ('lynn_jennifer_j', 0.26302715613797101),\n",
       " ('920145823', 0.2544743358294953),\n",
       " ('santos_adèle_naudé', 0.23706123154909431),\n",
       " ('braida_louis_d', 0.19465782335218274),\n",
       " ('987515930', 0.13237791786133168),\n",
       " ('32-g938', 0.11589346222712127)]"
      ]
     },
     "execution_count": 4,
     "metadata": {},
     "output_type": "execute_result"
    }
   ],
   "source": [
    "res = api.concept_qa('madden_samuel_r', 'Employee_directory.csv', 'Email Address')\n",
    "res"
   ]
  },
  {
   "cell_type": "code",
   "execution_count": 15,
   "metadata": {},
   "outputs": [
    {
     "data": {
      "text/plain": [
       "[('cadogan@ll_mit_edu', 0.41277815300323506),\n",
       " ('http://db_csail_mit_edu/madden', 0.39104304477665264),\n",
       " ('madden@csail_mit_edu', 0.36534859753987814),\n",
       " ('6172586643', 0.29210342947503665),\n",
       " ('920145823', 0.2544743358294953)]"
      ]
     },
     "execution_count": 15,
     "metadata": {},
     "output_type": "execute_result"
    }
   ],
   "source": [
    "res = api.concept_qa_denoising('madden_samuel_r', 'Employee_directory.csv', 'Email Address')\n",
    "res"
   ]
  },
  {
   "cell_type": "code",
   "execution_count": null,
   "metadata": {
    "collapsed": true,
    "scrolled": true
   },
   "outputs": [],
   "source": [
    "res = api.concept_qa('968548423', 'Employee_directory.csv', 'Office Phone', n=5)\n",
    "res"
   ]
  },
  {
   "cell_type": "code",
   "execution_count": null,
   "metadata": {
    "collapsed": true
   },
   "outputs": [],
   "source": [
    "res = api.concept_qa('kimball@mit.edu', 'Employee_directory.csv', 'Office Phone', n=5)\n",
    "res"
   ]
  },
  {
   "cell_type": "code",
   "execution_count": null,
   "metadata": {
    "collapsed": true,
    "scrolled": true
   },
   "outputs": [],
   "source": [
    "res = api.topk_similar_vectors('kimball@mit.edu', k=10)\n",
    "res"
   ]
  },
  {
   "cell_type": "code",
   "execution_count": null,
   "metadata": {
    "collapsed": true
   },
   "outputs": [],
   "source": [
    "res = api.topk_similar_vectors('6172539707', k=10)\n",
    "res"
   ]
  },
  {
   "cell_type": "code",
   "execution_count": null,
   "metadata": {
    "collapsed": true
   },
   "outputs": [],
   "source": [
    "topk = api.topk_columns(api.vector_for_entity('6172539707'), k=5)\n",
    "topk"
   ]
  },
  {
   "cell_type": "code",
   "execution_count": null,
   "metadata": {
    "collapsed": true
   },
   "outputs": [],
   "source": [
    "topk = api.topk_columns(api.vector_for_entity('kimball@mit.edu'), k=5)\n",
    "topk"
   ]
  },
  {
   "cell_type": "code",
   "execution_count": null,
   "metadata": {
    "collapsed": true
   },
   "outputs": [],
   "source": [
    "res = api.concept_expansion('kimball@mit.edu', 'Employee_directory.csv', 'Email Address', k=5)\n",
    "res"
   ]
  },
  {
   "cell_type": "code",
   "execution_count": null,
   "metadata": {
    "collapsed": true
   },
   "outputs": [],
   "source": []
  },
  {
   "cell_type": "code",
   "execution_count": null,
   "metadata": {
    "collapsed": true
   },
   "outputs": [],
   "source": []
  },
  {
   "cell_type": "code",
   "execution_count": null,
   "metadata": {
    "collapsed": true
   },
   "outputs": [],
   "source": []
  },
  {
   "cell_type": "code",
   "execution_count": null,
   "metadata": {
    "collapsed": true
   },
   "outputs": [],
   "source": []
  },
  {
   "cell_type": "code",
   "execution_count": null,
   "metadata": {
    "collapsed": true
   },
   "outputs": [],
   "source": []
  },
  {
   "cell_type": "code",
   "execution_count": null,
   "metadata": {
    "collapsed": true
   },
   "outputs": [],
   "source": []
  },
  {
   "cell_type": "code",
   "execution_count": null,
   "metadata": {
    "collapsed": true
   },
   "outputs": [],
   "source": []
  },
  {
   "cell_type": "code",
   "execution_count": null,
   "metadata": {
    "collapsed": true
   },
   "outputs": [],
   "source": [
    "import word2vec\n",
    "import itertools\n",
    "import numpy as np\n",
    "from relational_embedder import composition\n",
    "from data_prep import data_prep_utils as dpu\n",
    "from scipy.spatial.distance import cosine\n",
    "import pandas as pd"
   ]
  },
  {
   "cell_type": "code",
   "execution_count": null,
   "metadata": {
    "collapsed": true
   },
   "outputs": [],
   "source": [
    "# Loading binary vectors\n",
    "model = word2vec.load(\"/home/ubuntu/word2vec_c/data/mitdwhdata.bin\")"
   ]
  },
  {
   "cell_type": "code",
   "execution_count": null,
   "metadata": {
    "collapsed": true,
    "scrolled": true
   },
   "outputs": [],
   "source": [
    "indexes, metrics = model.cosine('madden_samuel_r', n=20)\n",
    "res = model.generate_response(indexes, metrics).tolist()\n",
    "res"
   ]
  },
  {
   "cell_type": "code",
   "execution_count": null,
   "metadata": {
    "collapsed": true,
    "scrolled": true
   },
   "outputs": [],
   "source": [
    "indexes, metrics = model.cosine('32-g938', n=20)\n",
    "res = model.generate_response(indexes, metrics).tolist()\n",
    "res"
   ]
  },
  {
   "cell_type": "markdown",
   "metadata": {},
   "source": [
    "#### Basic Analogies"
   ]
  },
  {
   "cell_type": "code",
   "execution_count": null,
   "metadata": {
    "collapsed": true
   },
   "outputs": [],
   "source": [
    "indexes, metrics = model.analogy(pos=['madden_samuel_r', '32-g936'], neg=['32-g938'], n=10)"
   ]
  },
  {
   "cell_type": "code",
   "execution_count": null,
   "metadata": {
    "collapsed": true,
    "scrolled": true
   },
   "outputs": [],
   "source": [
    "res = model.generate_response(indexes, metrics).tolist()\n",
    "res"
   ]
  },
  {
   "cell_type": "markdown",
   "metadata": {},
   "source": [
    "#### Analogies across Relations"
   ]
  },
  {
   "cell_type": "code",
   "execution_count": null,
   "metadata": {
    "collapsed": true
   },
   "outputs": [],
   "source": [
    "indexes, metrics = model.analogy(pos=['gallop_sarah_e', '10-219'], neg=['11-245'], n=10)\n",
    "res = model.generate_response(indexes, metrics).tolist()\n",
    "res"
   ]
  },
  {
   "cell_type": "markdown",
   "metadata": {
    "collapsed": true
   },
   "source": [
    "## Baseline composition: Columns and Relations"
   ]
  },
  {
   "cell_type": "code",
   "execution_count": null,
   "metadata": {
    "collapsed": true
   },
   "outputs": [],
   "source": [
    "# Files\n",
    "import os\n",
    "path = \"/data/datasets/mitdwh/\"\n",
    "all_relations = [relation for relation in os.listdir(path)]"
   ]
  },
  {
   "cell_type": "code",
   "execution_count": null,
   "metadata": {
    "collapsed": true
   },
   "outputs": [],
   "source": [
    "composition_vectors = dict()"
   ]
  },
  {
   "cell_type": "code",
   "execution_count": null,
   "metadata": {
    "collapsed": true,
    "scrolled": true
   },
   "outputs": [],
   "source": [
    "for relation in all_relations:\n",
    "    print(\"Computing vectors for: \" + str(relation))\n",
    "    col_we, missing_words = composition.column_avg_composition(path + \"/\" + relation, model)\n",
    "    rel_we = composition.relation_column_composition(col_we)\n",
    "    composition_vectors[relation] = rel_we\n",
    "    for k, v in col_we.items():\n",
    "        composition_vectors[relation +\".\" + k] = col_we[k]\n",
    "print(\"Done!\")\n",
    "print(\"Total vectors: \" + str(len(composition_vectors.items())))"
   ]
  },
  {
   "cell_type": "code",
   "execution_count": null,
   "metadata": {
    "collapsed": true
   },
   "outputs": [],
   "source": [
    "# SERIALIZE\n",
    "import pickle\n",
    "path = \"./temp/composition_vectors.pkl\"\n",
    "with open(path, 'wb') as f:\n",
    "    pickle.dump(composition_vectors, f)"
   ]
  },
  {
   "cell_type": "code",
   "execution_count": null,
   "metadata": {
    "collapsed": true
   },
   "outputs": [],
   "source": [
    "# DESERIALIZE\n",
    "import pickle\n",
    "path = \"./temp/composition_vectors.pkl\"\n",
    "with open(path, 'rb') as f:\n",
    "    composition_vectors = pickle.load(f)"
   ]
  },
  {
   "cell_type": "code",
   "execution_count": null,
   "metadata": {
    "collapsed": true
   },
   "outputs": [],
   "source": [
    "def similar_to(table, column=None, threshold=0.2):\n",
    "    similar_items = []\n",
    "    if column is None:\n",
    "        key = table\n",
    "    else:\n",
    "        key = table + \".\" + column\n",
    "    for k, we in composition_vectors.items():\n",
    "        distance = 0\n",
    "        try:\n",
    "            distance = cosine(composition_vectors[key], composition_vectors[k])\n",
    "        except ValueError:\n",
    "            continue\n",
    "        if distance < threshold:\n",
    "            similar_items.append(k)\n",
    "    return similar_items"
   ]
  },
  {
   "cell_type": "code",
   "execution_count": null,
   "metadata": {
    "collapsed": true
   },
   "outputs": [],
   "source": [
    "table = \"Fac_building.csv\"\n",
    "column = \"Building Name Long\"\n",
    "#key = \"Tables.csv.Business Contact Email\"\n",
    "threshold = 0.2\n",
    "sim_items = similar_to(table, column=column)\n",
    "for el in sim_items:\n",
    "    print(str(el))"
   ]
  },
  {
   "cell_type": "code",
   "execution_count": null,
   "metadata": {
    "collapsed": true
   },
   "outputs": [],
   "source": [
    "table = \"Library_subject_offered.csv\"\n",
    "column = \"Course Number Desc\"\n",
    "sim_items = similar_to(table, column)\n",
    "for el in sim_items:\n",
    "    print(str(el))"
   ]
  },
  {
   "cell_type": "code",
   "execution_count": null,
   "metadata": {
    "collapsed": true,
    "scrolled": true
   },
   "outputs": [],
   "source": [
    "table = \"Warehouse_users.csv\"\n",
    "sim_items = similar_to(table)\n",
    "for el in sim_items:\n",
    "    print(str(el))"
   ]
  },
  {
   "cell_type": "code",
   "execution_count": null,
   "metadata": {
    "collapsed": true,
    "scrolled": false
   },
   "outputs": [],
   "source": [
    "table = \"Fac_building.csv\"\n",
    "sim_items = similar_to(table, threshold=0.1)\n",
    "for el in sim_items:\n",
    "    print(str(el))"
   ]
  },
  {
   "cell_type": "markdown",
   "metadata": {},
   "source": [
    "### Other examples"
   ]
  },
  {
   "cell_type": "code",
   "execution_count": null,
   "metadata": {
    "collapsed": true
   },
   "outputs": [],
   "source": [
    "path_to_relation = \"/data/datasets/mitdwh/Se_person.csv\"\n",
    "col_we_se, missing_words = composition.column_avg_composition(path_to_relation, model)"
   ]
  },
  {
   "cell_type": "code",
   "execution_count": null,
   "metadata": {
    "collapsed": true
   },
   "outputs": [],
   "source": [
    "path_to_relation = \"/data/datasets/mitdwh/Drupal_employee_directory.csv\"\n",
    "col_we_drupal, missing_words = composition.column_avg_composition(path_to_relation, model)"
   ]
  },
  {
   "cell_type": "code",
   "execution_count": null,
   "metadata": {
    "collapsed": true
   },
   "outputs": [],
   "source": [
    "se_vec = composition.relation_column_composition(col_we_se)\n",
    "drupal_vec = composition.relation_column_composition(col_we_drupal)"
   ]
  },
  {
   "cell_type": "code",
   "execution_count": null,
   "metadata": {
    "collapsed": true
   },
   "outputs": [],
   "source": [
    "cosine(se_vec, drupal_vec)"
   ]
  },
  {
   "cell_type": "code",
   "execution_count": null,
   "metadata": {
    "collapsed": true
   },
   "outputs": [],
   "source": [
    "for a, b in itertools.combinations(col_we_se.keys(), 2):\n",
    "    we_a = col_we_se[a]\n",
    "    we_b = col_we_se[b]\n",
    "\n",
    "    cos = cosine(we_a, we_b)\n",
    "    print(str(a) + \" -sim- \" + str(b) + \" is: \" + str(cos))"
   ]
  },
  {
   "cell_type": "markdown",
   "metadata": {
    "collapsed": true
   },
   "source": [
    "## Composition Rows"
   ]
  },
  {
   "cell_type": "code",
   "execution_count": null,
   "metadata": {
    "collapsed": true
   },
   "outputs": [],
   "source": [
    "path_to_relation = \"/data/datasets/mitdwh/Se_person.csv\"\n",
    "row_we, m_words = composition.row_avg_composition(path_to_relation, model)"
   ]
  },
  {
   "cell_type": "code",
   "execution_count": null,
   "metadata": {
    "collapsed": true
   },
   "outputs": [],
   "source": [
    "df = pd.read_csv(path_to_relation, encoding='latin1')"
   ]
  },
  {
   "cell_type": "code",
   "execution_count": null,
   "metadata": {
    "collapsed": true
   },
   "outputs": [],
   "source": [
    "row_ref = 0\n",
    "distances = []\n",
    "for i in range(len(row_we)):\n",
    "    distance = cosine(row_we[row_ref], row_we[i])\n",
    "    distances.append((i, distance))\n",
    "distances = sorted(distances, key=lambda x: x[1])"
   ]
  },
  {
   "cell_type": "code",
   "execution_count": null,
   "metadata": {
    "collapsed": true
   },
   "outputs": [],
   "source": [
    "len(distances)"
   ]
  },
  {
   "cell_type": "code",
   "execution_count": null,
   "metadata": {
    "collapsed": true
   },
   "outputs": [],
   "source": [
    "k = 10\n",
    "topk = []\n",
    "for i in range(k):\n",
    "    idx = distances[i]\n",
    "    row = df.iloc[idx[0]]\n",
    "    topk.append((row, distances[i]))"
   ]
  },
  {
   "cell_type": "code",
   "execution_count": null,
   "metadata": {
    "collapsed": true
   },
   "outputs": [],
   "source": [
    "df.iloc[0]"
   ]
  },
  {
   "cell_type": "code",
   "execution_count": null,
   "metadata": {
    "collapsed": true
   },
   "outputs": [],
   "source": [
    "topk[1]"
   ]
  },
  {
   "cell_type": "code",
   "execution_count": null,
   "metadata": {
    "collapsed": true
   },
   "outputs": [],
   "source": [
    "topk[2]"
   ]
  },
  {
   "cell_type": "code",
   "execution_count": null,
   "metadata": {
    "collapsed": true
   },
   "outputs": [],
   "source": [
    "topk[3]"
   ]
  },
  {
   "cell_type": "code",
   "execution_count": null,
   "metadata": {
    "collapsed": true
   },
   "outputs": [],
   "source": [
    "topk[4]"
   ]
  },
  {
   "cell_type": "markdown",
   "metadata": {},
   "source": [
    "## Operations across hierarchy"
   ]
  },
  {
   "cell_type": "code",
   "execution_count": null,
   "metadata": {
    "collapsed": true
   },
   "outputs": [],
   "source": [
    "def topk_similar(vec, composition_vectors):\n",
    "    distances = []\n",
    "    errors = 0\n",
    "    for key, value in composition_vectors.items():\n",
    "        try:\n",
    "            distance = cosine(vec, value)\n",
    "        except ValueError:\n",
    "            errors += 1\n",
    "            continue\n",
    "        distances.append((key, distance))\n",
    "    distances = sorted(distances, key=lambda x: x[1])\n",
    "    return distances, errors"
   ]
  },
  {
   "cell_type": "code",
   "execution_count": null,
   "metadata": {
    "collapsed": true
   },
   "outputs": [],
   "source": [
    "entity = 'madden_samuel_r'\n",
    "vec = model.get_vector(entity)"
   ]
  },
  {
   "cell_type": "code",
   "execution_count": null,
   "metadata": {
    "collapsed": true,
    "scrolled": true
   },
   "outputs": [],
   "source": [
    "distances, errors = topk_similar(vec, composition_vectors)\n",
    "print(\"ERRORS: \" + str(errors))"
   ]
  },
  {
   "cell_type": "code",
   "execution_count": null,
   "metadata": {
    "collapsed": true,
    "scrolled": true
   },
   "outputs": [],
   "source": [
    "for i in range(10):\n",
    "    print(str(distances[i]))"
   ]
  },
  {
   "cell_type": "markdown",
   "metadata": {},
   "source": [
    "#### Check rows"
   ]
  },
  {
   "cell_type": "code",
   "execution_count": null,
   "metadata": {
    "collapsed": true
   },
   "outputs": [],
   "source": [
    "distances = []\n",
    "for i in range(len(row_we)):\n",
    "    distance = cosine(vec, row_we[i])\n",
    "    distances.append((i, distance))\n",
    "distances = sorted(distances, key=lambda x: x[1])"
   ]
  },
  {
   "cell_type": "code",
   "execution_count": null,
   "metadata": {
    "collapsed": true
   },
   "outputs": [],
   "source": [
    "k = 10\n",
    "topk = []\n",
    "for i in range(k):\n",
    "    idx = distances[i]\n",
    "    row = df.iloc[idx[0]]\n",
    "    topk.append((row, distances[i]))"
   ]
  },
  {
   "cell_type": "code",
   "execution_count": null,
   "metadata": {
    "collapsed": true
   },
   "outputs": [],
   "source": [
    "topk[0]"
   ]
  },
  {
   "cell_type": "code",
   "execution_count": null,
   "metadata": {
    "collapsed": true
   },
   "outputs": [],
   "source": [
    "topk[1]"
   ]
  },
  {
   "cell_type": "code",
   "execution_count": null,
   "metadata": {
    "collapsed": true
   },
   "outputs": [],
   "source": [
    "topk[2]"
   ]
  },
  {
   "cell_type": "code",
   "execution_count": null,
   "metadata": {
    "collapsed": true
   },
   "outputs": [],
   "source": [
    "topk[3]"
   ]
  },
  {
   "cell_type": "markdown",
   "metadata": {
    "collapsed": true
   },
   "source": [
    "### Designing API"
   ]
  },
  {
   "cell_type": "code",
   "execution_count": null,
   "metadata": {
    "collapsed": true
   },
   "outputs": [],
   "source": [
    "def concept_qa(entity, attribute, n=20):\n",
    "    #vec_entity = model.get_vector(entity)\n",
    "    indexes, metrics = model.cosine(entity, n=n)\n",
    "    res = model.generate_response(indexes, metrics).tolist()\n",
    "    vec_attribute = composition_vectors[attribute]\n",
    "    candidate_attribute_sim = []\n",
    "    for e, score in res:\n",
    "        vec_e = model.get_vector(e)\n",
    "        distance = cosine(vec_e, vec_attribute)\n",
    "        candidate_attribute_sim.append((e, distance))\n",
    "    candidate_attribute_sim = sorted(candidate_attribute_sim, key=lambda x: x[1])\n",
    "    return candidate_attribute_sim\n",
    "\n",
    "def entity_to_attribute(entity, n=20):\n",
    "    indexes, metrics = model.cosine(entity, n=n)\n",
    "    res = model.generate_response(indexes, metrics).tolist()\n",
    "    res_attr = []\n",
    "    for e, score in res:\n",
    "        vec_e = model.get_vector(e)\n",
    "        distances, errors = topk_similar(vec_e, composition_vectors)\n",
    "        res_attr.append((e, score, distances[:4]))\n",
    "    return res_attr"
   ]
  },
  {
   "cell_type": "code",
   "execution_count": null,
   "metadata": {
    "collapsed": true
   },
   "outputs": [],
   "source": [
    "# finding attributes\n",
    "attribute = 'phone'\n",
    "candidates = []\n",
    "for key in composition_vectors.keys():\n",
    "    if (key.lower()).find(attribute) != -1:\n",
    "        candidates.append(key)\n",
    "candidates"
   ]
  },
  {
   "cell_type": "code",
   "execution_count": null,
   "metadata": {
    "collapsed": true
   },
   "outputs": [],
   "source": [
    "indexes, metrics = model.cosine('madden_samuel_r', n=20)\n",
    "res = model.generate_response(indexes, metrics).tolist()\n",
    "res"
   ]
  },
  {
   "cell_type": "code",
   "execution_count": null,
   "metadata": {
    "collapsed": true
   },
   "outputs": [],
   "source": [
    "entity_to_attribute('madden_samuel_r', n=20)"
   ]
  },
  {
   "cell_type": "code",
   "execution_count": null,
   "metadata": {
    "collapsed": true
   },
   "outputs": [],
   "source": [
    "concept_qa('madden_samuel_r', 'Employee_directory.csv.Krb Name', n=10)"
   ]
  },
  {
   "cell_type": "code",
   "execution_count": null,
   "metadata": {
    "collapsed": true
   },
   "outputs": [],
   "source": []
  }
 ],
 "metadata": {
  "kernelspec": {
   "display_name": "Python 3",
   "language": "python",
   "name": "python3"
  },
  "language_info": {
   "codemirror_mode": {
    "name": "ipython",
    "version": 3
   },
   "file_extension": ".py",
   "mimetype": "text/x-python",
   "name": "python",
   "nbconvert_exporter": "python",
   "pygments_lexer": "ipython3",
   "version": "3.5.2"
  }
 },
 "nbformat": 4,
 "nbformat_minor": 2
}
