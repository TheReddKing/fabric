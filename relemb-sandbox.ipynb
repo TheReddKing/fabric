{
 "cells": [
  {
   "cell_type": "markdown",
   "metadata": {},
   "source": [
    "## Relational Embedding"
   ]
  },
  {
   "cell_type": "code",
   "execution_count": 35,
   "metadata": {},
   "outputs": [
    {
     "name": "stdout",
     "output_type": "stream",
     "text": [
      "The autoreload extension is already loaded. To reload it, use:\n",
      "  %reload_ext autoreload\n"
     ]
    }
   ],
   "source": [
    "%load_ext autoreload\n",
    "%autoreload 2"
   ]
  },
  {
   "cell_type": "code",
   "execution_count": 36,
   "metadata": {
    "collapsed": true
   },
   "outputs": [],
   "source": [
    "import word2vec\n",
    "import itertools\n",
    "import numpy as np\n",
    "from relational_embedder import composition\n",
    "from data_prep import data_prep_utils as dpu\n",
    "from scipy.spatial.distance import cosine"
   ]
  },
  {
   "cell_type": "code",
   "execution_count": 37,
   "metadata": {
    "collapsed": true
   },
   "outputs": [],
   "source": [
    "# Loading binary vectors\n",
    "model = word2vec.load(\"/home/ubuntu/word2vec_c/data/seperson_drupalemployee.bin\")"
   ]
  },
  {
   "cell_type": "code",
   "execution_count": 38,
   "metadata": {
    "collapsed": true
   },
   "outputs": [],
   "source": [
    "indexes, metrics = model.cosine('kimball', n=20)"
   ]
  },
  {
   "cell_type": "code",
   "execution_count": 39,
   "metadata": {
    "collapsed": true
   },
   "outputs": [],
   "source": [
    "res = model.generate_response(indexes, metrics).tolist()"
   ]
  },
  {
   "cell_type": "code",
   "execution_count": 40,
   "metadata": {
    "scrolled": true
   },
   "outputs": [
    {
     "data": {
      "text/plain": [
       "[('kimball_richard_w', 0.7698834167080255),\n",
       " ('968548423', 0.7293372253649367),\n",
       " ('hicklin2', 0.7022531778883037),\n",
       " ('3-269', 0.6828941371679911),\n",
       " ('6172539707', 0.6112949479789522),\n",
       " ('poet', 0.5927492963115722),\n",
       " ('mclellan', 0.5882572489910447),\n",
       " ('mcam', 0.5664702002297626),\n",
       " ('7819816361', 0.5662322099605901),\n",
       " ('926279941', 0.5615623705031092),\n",
       " ('910006165', 0.5603171306918009),\n",
       " ('david_southard@ll_mit_edu', 0.5584729825706068),\n",
       " ('kimball_robert_p', 0.5427674581903972),\n",
       " ('900052036', 0.5411373575287313),\n",
       " ('7819816426', 0.5407423052343436),\n",
       " ('hicklin_ii_robert_william', 0.5379797395342437),\n",
       " ('zahmo', 0.5246461132707749),\n",
       " ('927045585', 0.5215292419146997),\n",
       " ('thurston_kimball_d', 0.51322404020071),\n",
       " ('jrye', 0.5016387809325586)]"
      ]
     },
     "execution_count": 40,
     "metadata": {},
     "output_type": "execute_result"
    }
   ],
   "source": [
    "res"
   ]
  },
  {
   "cell_type": "markdown",
   "metadata": {},
   "source": [
    "#### Analogies"
   ]
  },
  {
   "cell_type": "code",
   "execution_count": 7,
   "metadata": {
    "collapsed": true
   },
   "outputs": [],
   "source": [
    "indexes, metrics = model.analogy(pos=['kimball', '3-269'], neg=['e23-266'], n=10)"
   ]
  },
  {
   "cell_type": "code",
   "execution_count": 8,
   "metadata": {},
   "outputs": [
    {
     "data": {
      "text/plain": [
       "[('kimball_richard_w', 0.28231005147222693),\n",
       " ('6172539707', 0.2623320371106695),\n",
       " ('910006165', 0.25320001353761157),\n",
       " ('7819816426', 0.23703705376079365),\n",
       " ('caryn', 0.23696845885282605),\n",
       " ('thurston_kimball_d', 0.23244744586696164),\n",
       " ('968548423', 0.22943614363511794),\n",
       " ('926279941', 0.2266240752917411),\n",
       " ('7819811585', 0.22512961794583908),\n",
       " ('7819815170', 0.22131277337164904)]"
      ]
     },
     "execution_count": 8,
     "metadata": {},
     "output_type": "execute_result"
    }
   ],
   "source": [
    "res = model.generate_response(indexes, metrics).tolist()\n",
    "res"
   ]
  },
  {
   "cell_type": "markdown",
   "metadata": {
    "collapsed": true
   },
   "source": [
    "## Baseline composition"
   ]
  },
  {
   "cell_type": "code",
   "execution_count": 53,
   "metadata": {},
   "outputs": [],
   "source": [
    "path_to_relation = \"/data/datasets/mitdwh/Se_person.csv\"\n",
    "col_we_se, missing_words = composition.column_avg_composition(path_to_relation, model)"
   ]
  },
  {
   "cell_type": "code",
   "execution_count": 54,
   "metadata": {
    "collapsed": true
   },
   "outputs": [],
   "source": [
    "path_to_relation = \"/data/datasets/mitdwh/Drupal_employee_directory.csv\"\n",
    "col_we_drupal, missing_words = composition.column_avg_composition(path_to_relation, model)"
   ]
  },
  {
   "cell_type": "code",
   "execution_count": 55,
   "metadata": {
    "collapsed": true
   },
   "outputs": [],
   "source": [
    "se_vec = composition.relation_column_composition(col_we_se)\n",
    "drupal_vec = composition.relation_column_composition(col_we_drupal)"
   ]
  },
  {
   "cell_type": "code",
   "execution_count": 57,
   "metadata": {},
   "outputs": [
    {
     "data": {
      "text/plain": [
       "0.67595657658132569"
      ]
     },
     "execution_count": 57,
     "metadata": {},
     "output_type": "execute_result"
    }
   ],
   "source": [
    "cosine(se_vec, drupal_vec)"
   ]
  },
  {
   "cell_type": "code",
   "execution_count": 46,
   "metadata": {},
   "outputs": [
    {
     "name": "stdout",
     "output_type": "stream",
     "text": [
      "Employee Type -sim- Middle Name is: 0.468415365418\n",
      "Employee Type -sim- Last Name is: 0.620014389093\n",
      "Employee Type -sim- Is Active is: 0.354705420918\n",
      "Employee Type -sim- Mit Id is: 0.600311577721\n",
      "Employee Type -sim- Full Name is: 0.561698343565\n",
      "Employee Type -sim- First Name is: 0.846132504292\n",
      "Employee Type -sim- Position Title is: 0.777724546264\n",
      "Employee Type -sim- Organization is: 0.352706213248\n",
      "Employee Type -sim- Krb Name is: 0.466058181094\n",
      "Employee Type -sim- Payroll Rank is: 0.212323487352\n",
      "Employee Type -sim- Office Location is: 0.487996025908\n",
      "Middle Name -sim- Last Name is: 0.705980952575\n",
      "Middle Name -sim- Is Active is: 0.62271853565\n",
      "Middle Name -sim- Mit Id is: 0.744537221278\n",
      "Middle Name -sim- Full Name is: 0.76888341386\n",
      "Middle Name -sim- First Name is: 0.771352810961\n",
      "Middle Name -sim- Position Title is: 0.933119558868\n",
      "Middle Name -sim- Organization is: 0.730588432622\n",
      "Middle Name -sim- Krb Name is: 0.803887993905\n",
      "Middle Name -sim- Payroll Rank is: 0.645413842897\n",
      "Middle Name -sim- Office Location is: 0.231294804452\n",
      "Last Name -sim- Is Active is: 0.701048754424\n",
      "Last Name -sim- Mit Id is: 0.549459847571\n",
      "Last Name -sim- Full Name is: 0.625489674223\n",
      "Last Name -sim- First Name is: 0.724131832201\n",
      "Last Name -sim- Position Title is: 0.963161379971\n",
      "Last Name -sim- Organization is: 0.800630716478\n",
      "Last Name -sim- Krb Name is: 0.47244795783\n",
      "Last Name -sim- Payroll Rank is: 0.642533716072\n",
      "Last Name -sim- Office Location is: 0.740893878774\n",
      "Is Active -sim- Mit Id is: 0.750725468238\n",
      "Is Active -sim- Full Name is: 0.685434731947\n",
      "Is Active -sim- First Name is: 0.83412341468\n",
      "Is Active -sim- Position Title is: 0.681610897399\n",
      "Is Active -sim- Organization is: 0.489125163979\n",
      "Is Active -sim- Krb Name is: 0.5075011831\n",
      "Is Active -sim- Payroll Rank is: 0.253899867547\n",
      "Is Active -sim- Office Location is: 0.602307312537\n",
      "Mit Id -sim- Full Name is: 0.0509943748427\n",
      "Mit Id -sim- First Name is: 0.804330341341\n",
      "Mit Id -sim- Position Title is: 0.806769565589\n",
      "Mit Id -sim- Organization is: 0.683347340193\n",
      "Mit Id -sim- Krb Name is: 0.154746785601\n",
      "Mit Id -sim- Payroll Rank is: 0.646058152156\n",
      "Mit Id -sim- Office Location is: 0.592372545249\n",
      "Full Name -sim- First Name is: 0.804654643882\n",
      "Full Name -sim- Position Title is: 0.77474014048\n",
      "Full Name -sim- Organization is: 0.654198885857\n",
      "Full Name -sim- Krb Name is: 0.120116401391\n",
      "Full Name -sim- Payroll Rank is: 0.591197582714\n",
      "Full Name -sim- Office Location is: 0.560175426758\n",
      "First Name -sim- Position Title is: 1.12194874752\n",
      "First Name -sim- Organization is: 0.906346777127\n",
      "First Name -sim- Krb Name is: 0.675695980826\n",
      "First Name -sim- Payroll Rank is: 0.757088738025\n",
      "First Name -sim- Office Location is: 0.917734377032\n",
      "Position Title -sim- Organization is: 0.947923001952\n",
      "Position Title -sim- Krb Name is: 0.749021169551\n",
      "Position Title -sim- Payroll Rank is: 0.803845729436\n",
      "Position Title -sim- Office Location is: 0.977606182707\n",
      "Organization -sim- Krb Name is: 0.560953946669\n",
      "Organization -sim- Payroll Rank is: 0.32353114744\n",
      "Organization -sim- Office Location is: 0.718279534839\n",
      "Krb Name -sim- Payroll Rank is: 0.42094910692\n",
      "Krb Name -sim- Office Location is: 0.625349818572\n",
      "Payroll Rank -sim- Office Location is: 0.665796416574\n"
     ]
    }
   ],
   "source": [
    "for a, b in itertools.combinations(col_we_se.keys(), 2):\n",
    "    we_a = col_we[a]\n",
    "    we_b = col_we[b]\n",
    "\n",
    "    cos = cosine(we_a, we_b)\n",
    "    print(str(a) + \" -sim- \" + str(b) + \" is: \" + str(cos))"
   ]
  },
  {
   "cell_type": "code",
   "execution_count": null,
   "metadata": {
    "collapsed": true
   },
   "outputs": [],
   "source": []
  },
  {
   "cell_type": "code",
   "execution_count": null,
   "metadata": {
    "collapsed": true
   },
   "outputs": [],
   "source": []
  }
 ],
 "metadata": {
  "kernelspec": {
   "display_name": "Python 3",
   "language": "python",
   "name": "python3"
  },
  "language_info": {
   "codemirror_mode": {
    "name": "ipython",
    "version": 3
   },
   "file_extension": ".py",
   "mimetype": "text/x-python",
   "name": "python",
   "nbconvert_exporter": "python",
   "pygments_lexer": "ipython3",
   "version": "3.5.2"
  }
 },
 "nbformat": 4,
 "nbformat_minor": 2
}
