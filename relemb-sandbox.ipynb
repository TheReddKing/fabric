{
 "cells": [
  {
   "cell_type": "markdown",
   "metadata": {},
   "source": [
    "## Relational Embedding"
   ]
  },
  {
   "cell_type": "code",
   "execution_count": 17,
   "metadata": {},
   "outputs": [
    {
     "name": "stdout",
     "output_type": "stream",
     "text": [
      "The autoreload extension is already loaded. To reload it, use:\n",
      "  %reload_ext autoreload\n"
     ]
    }
   ],
   "source": [
    "%load_ext autoreload\n",
    "%autoreload 2"
   ]
  },
  {
   "cell_type": "code",
   "execution_count": 18,
   "metadata": {
    "collapsed": true
   },
   "outputs": [],
   "source": [
    "import word2vec\n",
    "import itertools\n",
    "import numpy as np\n",
    "from relational_embedder import composition\n",
    "from data_prep import data_prep_utils as dpu\n",
    "from scipy.spatial.distance import cosine"
   ]
  },
  {
   "cell_type": "code",
   "execution_count": 19,
   "metadata": {
    "collapsed": true
   },
   "outputs": [],
   "source": [
    "# Loading binary vectors\n",
    "model = word2vec.load(\"/home/ubuntu/word2vec_c/data/mitdwhdata.bin\")"
   ]
  },
  {
   "cell_type": "code",
   "execution_count": 4,
   "metadata": {
    "collapsed": true
   },
   "outputs": [],
   "source": [
    "indexes, metrics = model.cosine('madden_samuel_r', n=20)"
   ]
  },
  {
   "cell_type": "code",
   "execution_count": 5,
   "metadata": {
    "collapsed": true
   },
   "outputs": [],
   "source": [
    "res = model.generate_response(indexes, metrics).tolist()"
   ]
  },
  {
   "cell_type": "code",
   "execution_count": 6,
   "metadata": {
    "scrolled": true
   },
   "outputs": [
    {
     "data": {
      "text/plain": [
       "[('6172586643', 0.7849313486501621),\n",
       " ('srmadden', 0.761890896610126),\n",
       " ('madden@csail_mit_edu', 0.7302375712183606),\n",
       " ('32-g938', 0.6994234649772965),\n",
       " ('alleyne_valerie', 0.6096030452657748),\n",
       " ('regev_aviv', 0.6001141852343141),\n",
       " ('http://db_csail_mit_edu/madden', 0.5726818600046826),\n",
       " ('924559605', 0.5446807208673953),\n",
       " ('cadogan_karen_m', 0.5440192014598965),\n",
       " ('cadogan@ll_mit_edu', 0.538459665843975),\n",
       " ('saxe_rebecca_r', 0.5261379573217481),\n",
       " ('lynn_jennifer_j', 0.5234204003276526),\n",
       " ('987515930', 0.5216549568539472),\n",
       " ('valleyne', 0.5056586181521495),\n",
       " ('920145823', 0.49755006654659845),\n",
       " ('nhuch_michelle_r', 0.49333601582586056),\n",
       " ('santos_adèle_naudé', 0.4914655348305545),\n",
       " ('braida_louis_d', 0.4896523932603062),\n",
       " ('julich_perez_april', 0.4838387563134501),\n",
       " ('hanafin_nicole', 0.4807667923350942)]"
      ]
     },
     "execution_count": 6,
     "metadata": {},
     "output_type": "execute_result"
    }
   ],
   "source": [
    "res"
   ]
  },
  {
   "cell_type": "markdown",
   "metadata": {},
   "source": [
    "#### Analogies"
   ]
  },
  {
   "cell_type": "code",
   "execution_count": 20,
   "metadata": {
    "collapsed": true
   },
   "outputs": [],
   "source": [
    "indexes, metrics = model.analogy(pos=['madden_samuel_r', '32-g936'], neg=['32-g938'], n=10)"
   ]
  },
  {
   "cell_type": "code",
   "execution_count": 21,
   "metadata": {},
   "outputs": [
    {
     "data": {
      "text/plain": [
       "[('katabi_dina', 0.2620763345752194),\n",
       " ('6173246027', 0.24025065821678065),\n",
       " ('dina@csail_mit_edu', 0.23896212073782416),\n",
       " ('wenger_rich', 0.21775141487554264),\n",
       " ('dinaktbi', 0.1936179557694433),\n",
       " ('951111241', 0.18444792210514846),\n",
       " ('pribble_daniel', 0.18236975950919623),\n",
       " ('wenger_richard', 0.1822369772140558),\n",
       " ('vuletic@mit_edu', 0.18132656363077188),\n",
       " ('essigmann_ellen_m', 0.18048992697689886)]"
      ]
     },
     "execution_count": 21,
     "metadata": {},
     "output_type": "execute_result"
    }
   ],
   "source": [
    "res = model.generate_response(indexes, metrics).tolist()\n",
    "res"
   ]
  },
  {
   "cell_type": "markdown",
   "metadata": {
    "collapsed": true
   },
   "source": [
    "## Baseline composition"
   ]
  },
  {
   "cell_type": "code",
   "execution_count": 43,
   "metadata": {},
   "outputs": [],
   "source": [
    "# Files\n",
    "import os\n",
    "path = \"/data/datasets/mitdwh/\"\n",
    "all_relations = [relation for relation in os.listdir(path)]"
   ]
  },
  {
   "cell_type": "code",
   "execution_count": 46,
   "metadata": {
    "collapsed": true
   },
   "outputs": [],
   "source": [
    "composition_vectors = dict()"
   ]
  },
  {
   "cell_type": "code",
   "execution_count": 47,
   "metadata": {},
   "outputs": [
    {
     "name": "stdout",
     "output_type": "stream",
     "text": [
      "Computing vectors for: Fclt_rooms.csv\n"
     ]
    },
    {
     "name": "stderr",
     "output_type": "stream",
     "text": [
      "/home/ubuntu/virtualenvs/fabric/lib/python3.5/site-packages/IPython/core/interactiveshell.py:2821: DtypeWarning: Columns (3) have mixed types. Specify dtype option on import or set low_memory=False.\n",
      "  if self.run_code(code, result):\n"
     ]
    },
    {
     "name": "stdout",
     "output_type": "stream",
     "text": [
      "Computing vectors for: Hr_org_unit_new.csv\n",
      "Computing vectors for: Sdo_relatemask_table.csv\n",
      "Computing vectors for: Sdo_datums_old_snapshot.csv\n",
      "Computing vectors for: Zpm_rooms_load.csv\n",
      "Computing vectors for: Mit_student_directory.csv\n",
      "Computing vectors for: Sdo_coord_axis_names.csv\n",
      "Computing vectors for: Sdo_ellipsoids_old.csv\n",
      "Computing vectors for: Iap_subject_session.csv\n",
      "Computing vectors for: Ctx_stopwords.csv\n",
      "Computing vectors for: Space_unit.csv\n",
      "Computing vectors for: Sdo_datum_vertical.csv\n",
      "Computing vectors for: Sdo_crs_vertical.csv\n",
      "Computing vectors for: All_olap_functions.csv\n",
      "Computing vectors for: short_drupal_course_catalog.csv\n",
      "Computing vectors for: Sdo_crs_geocentric.csv\n",
      "Computing vectors for: Ctx_parameters.csv\n",
      "Computing vectors for: Time_day.csv\n",
      "Computing vectors for: Sdo_units_of_measure.csv\n",
      "Computing vectors for: Si_thumbnail_format.csv\n",
      "Computing vectors for: Fclt_building_address_list.csv\n",
      "Computing vectors for: Student_department.csv\n",
      "Computing vectors for: Fclt_org_dlc_key.csv\n",
      "Computing vectors for: Sdo_coord_ops.csv\n",
      "Computing vectors for: Roles_fin_pa.csv\n",
      "Computing vectors for: Student_degree_program.csv\n",
      "Computing vectors for: short_subjects_offered.csv\n",
      "Computing vectors for: User_wm_privs.csv\n",
      "Computing vectors for: Sis_department.csv\n",
      "Computing vectors for: Geodetic_srids.csv\n",
      "Computing vectors for: Ctx_object_attributes.csv\n",
      "Computing vectors for: Sdo_datums.csv\n",
      "Computing vectors for: Star_user_view.csv\n",
      "Computing vectors for: short_moira_list_detail.csv\n",
      "Computing vectors for: Sdo_dist_units.csv\n",
      "Computing vectors for: All_olap_function_parameters.csv\n",
      "Computing vectors for: Subject_attribute.csv\n",
      "Computing vectors for: subject_grouping_slice.csv\n",
      "Computing vectors for: short_subject_enrollable.csv\n",
      "Computing vectors for: Ctx_section_groups.csv\n",
      "Computing vectors for: Master_dept_dcode_parent.csv\n",
      "Computing vectors for: Tip_material_status.csv\n",
      "Computing vectors for: short_zip_canada.csv\n",
      "Computing vectors for: Time_month.csv\n",
      "Computing vectors for: Sdo_coord_op_methods.csv\n",
      "Computing vectors for: Sdo_coord_param_use.csv\n",
      "Computing vectors for: All_workspace_privs.csv\n",
      "Computing vectors for: Space_supervisor_usage.csv\n",
      "Computing vectors for: Tip_detail.csv\n",
      "Computing vectors for: Fac_building_address.csv\n",
      "Computing vectors for: Sis_admin_department.csv\n",
      "Computing vectors for: Library_course_instructor.csv\n",
      "Computing vectors for: Dr_object_attribute.csv\n",
      "Computing vectors for: Sdo_projections_old_format.csv\n",
      "Computing vectors for: Sdo_crs_geographic2d.csv\n",
      "Computing vectors for: Fclt_building_list.csv\n",
      "Computing vectors for: Cip.csv\n",
      "Computing vectors for: Sdo_projections_old_snapshot.csv\n",
      "Computing vectors for: Fac_organization.csv\n",
      "Computing vectors for: User_view_field.csv\n",
      "Computing vectors for: All_olap_tables.csv\n",
      "Computing vectors for: Ctx_stoplists.csv\n",
      "Computing vectors for: Fclt_organization_hist.csv\n",
      "Computing vectors for: Se_person.csv\n",
      "Computing vectors for: Top_level_domain.csv\n",
      "Computing vectors for: short_fclt_rooms_hist.csv\n",
      "Computing vectors for: Hr_org_unit.csv\n",
      "Computing vectors for: Library_subject_offered.csv\n",
      "Computing vectors for: Si_image_formats.csv\n",
      "Computing vectors for: Master_dept_hierarchy_links.csv\n",
      "Computing vectors for: Fclt_building_address.csv\n",
      "Computing vectors for: All_olap_entity_desc_uses.csv\n",
      "Computing vectors for: short_library_reserve_catalog.csv\n",
      "Computing vectors for: Library_material_status.csv\n",
      "Computing vectors for: Iap_subject_category.csv\n",
      "Computing vectors for: short_tip_subject_offered.csv\n",
      "Computing vectors for: Si_image_format_covnersions.csv\n",
      "Computing vectors for: Cip_with_version.csv\n",
      "Computing vectors for: Sdo_coord_op_params.csv\n",
      "Computing vectors for: All_version_hview_wdepth.csv\n",
      "Computing vectors for: short_cis_course_catalog.csv\n",
      "Computing vectors for: short_course_catalog_subject_offered.csv\n",
      "Computing vectors for: Iap_subject_sponsor.csv\n",
      "Computing vectors for: Fac_floor.csv\n",
      "Computing vectors for: Fac_rooms.csv\n"
     ]
    },
    {
     "name": "stderr",
     "output_type": "stream",
     "text": [
      "/home/ubuntu/virtualenvs/fabric/lib/python3.5/site-packages/IPython/core/interactiveshell.py:2821: DtypeWarning: Columns (2) have mixed types. Specify dtype option on import or set low_memory=False.\n",
      "  if self.run_code(code, result):\n"
     ]
    },
    {
     "name": "stdout",
     "output_type": "stream",
     "text": [
      "Computing vectors for: Mrv_olap2_descriptors.csv\n",
      "Computing vectors for: Wm_installation.csv\n",
      "Computing vectors for: Person_auth_area.csv\n",
      "Computing vectors for: Sdo_coord_op_paths.csv\n",
      "Computing vectors for: Sdo_coord_system.csv\n",
      "Computing vectors for: Fields.csv\n",
      "Computing vectors for: Hr_faculty_roster.csv\n",
      "Computing vectors for: Space_usage.csv\n",
      "Computing vectors for: Tip_material.csv\n",
      "Computing vectors for: Space_floor.csv\n",
      "Computing vectors for: Sdo_crs_geographic3d.csv\n",
      "Computing vectors for: Zip_usa.csv\n",
      "Computing vectors for: All_olap_descriptor_types.csv\n",
      "Computing vectors for: Sis_subject_code.csv\n",
      "Computing vectors for: Sdo_available_ops.csv\n",
      "Computing vectors for: Academic_term_parameter.csv\n",
      "Computing vectors for: All_olap_columns.csv\n",
      "Computing vectors for: Field_dictionary_definition.csv\n",
      "Computing vectors for: Drupal_employee_directory.csv\n",
      "Computing vectors for: Sdo_prime_meridians.csv\n",
      "Computing vectors for: Academic_terms.csv\n",
      "Computing vectors for: short_subject_offered_summary.csv\n",
      "Computing vectors for: Fclt_major_use.csv\n",
      "Computing vectors for: Si_image_format_features.csv\n",
      "Computing vectors for: Sdo_datum_geodetic.csv\n",
      "Computing vectors for: Sdo_available_elem_ops.csv\n",
      "Computing vectors for: Fclt_floor_hist.csv\n",
      "Computing vectors for: Space_detail.csv\n",
      "Computing vectors for: Sdo_datum_engineering.csv\n",
      "Computing vectors for: All_olap_descriptor_types_2.csv\n",
      "Computing vectors for: Tables.csv\n",
      "Computing vectors for: Star.csv\n",
      "Computing vectors for: Sis_lookup.csv\n",
      "Computing vectors for: Fclt_floor.csv\n",
      "Computing vectors for: Ctx_objects.csv\n",
      "Computing vectors for: Ctx_object_attribute_lov.csv\n",
      "Computing vectors for: Sdo_ellipsoids_old_snapshot.csv\n",
      "Computing vectors for: Ctx_classes.csv\n",
      "Computing vectors for: Ctx_preference_values.csv\n",
      "Computing vectors for: All_rlmgr_rulec_class_opcodes.csv\n",
      "Computing vectors for: Ctx_index_sets.csv\n",
      "Computing vectors for: Iap_subject_detail.csv\n",
      "Computing vectors for: Master_dept_hierarchy.csv\n",
      "Computing vectors for: Ir_institution.csv\n"
     ]
    },
    {
     "name": "stderr",
     "output_type": "stream",
     "text": [
      "/home/ubuntu/virtualenvs/fabric/lib/python3.5/site-packages/numpy/core/fromnumeric.py:2889: RuntimeWarning: Mean of empty slice.\n",
      "  out=out, **kwargs)\n",
      "/home/ubuntu/virtualenvs/fabric/lib/python3.5/site-packages/numpy/core/_methods.py:80: RuntimeWarning: invalid value encountered in double_scalars\n",
      "  ret = ret.dtype.type(ret / rcount)\n"
     ]
    },
    {
     "name": "stdout",
     "output_type": "stream",
     "text": [
      "Computing vectors for: Num.csv\n",
      "Computing vectors for: Sdo_crs_compound.csv\n",
      "Computing vectors for: Cis_hass_attribute.csv\n",
      "Computing vectors for: Sdo_crs_engineering.csv\n",
      "Computing vectors for: Iap_subject_person.csv\n",
      "Computing vectors for: Si_values.csv\n",
      "Computing vectors for: Fac_major_use.csv\n",
      "Computing vectors for: Sdo_datums_old_format.csv\n",
      "Computing vectors for: Sis_term_address_category.csv\n",
      "Computing vectors for: Moira_list.csv\n",
      "Computing vectors for: All_olap2_uentity_desc_uses.csv\n",
      "Computing vectors for: Fac_building.csv\n",
      "Computing vectors for: User_view.csv\n",
      "Computing vectors for: All_hversion_view.csv\n",
      "Computing vectors for: Ctx_preferences.csv\n",
      "Computing vectors for: Fclt_major_user_hist.csv\n",
      "Computing vectors for: Sdo_non_available_elem_units.csv\n",
      "Computing vectors for: Subject_iap_schedule.csv\n",
      "Computing vectors for: Fclt_building.csv\n",
      "Computing vectors for: Fclt_organization.csv\n",
      "Computing vectors for: Fclt_building_hist_1.csv\n",
      "Computing vectors for: Buildings.csv\n",
      "Computing vectors for: Sdo_area_units.csv\n",
      "Computing vectors for: Employee_directory.csv\n",
      "Computing vectors for: Library_reserve_matrl_detail.csv\n",
      "Computing vectors for: short_subject_summary.csv\n",
      "Computing vectors for: Sdo_angle_units.csv\n",
      "Computing vectors for: Sis_course_description.csv\n",
      "Computing vectors for: Academic_terms_all.csv\n",
      "Computing vectors for: Warehouse_users.csv\n",
      "Computing vectors for: Sdo_crs_projected.csv\n",
      "Done!\n",
      "Total vectors: 1842\n"
     ]
    }
   ],
   "source": [
    "for relation in all_relations:\n",
    "    print(\"Computing vectors for: \" + str(relation))\n",
    "    col_we, missing_words = composition.column_avg_composition(path + \"/\" + relation, model)\n",
    "    rel_we = composition.relation_column_composition(col_we)\n",
    "    composition_vectors[relation] = rel_we\n",
    "    for k, v in col_we.items():\n",
    "        composition_vectors[relation +\".\" + k] = col_we[k]\n",
    "print(\"Done!\")\n",
    "print(\"Total vectors: \" + str(len(composition_vectors.items())))"
   ]
  },
  {
   "cell_type": "code",
   "execution_count": 69,
   "metadata": {
    "collapsed": true
   },
   "outputs": [],
   "source": [
    "# SERIALIZE\n",
    "import pickle\n",
    "path = \"./temp/composition_vectors.pkl\"\n",
    "with open(path, 'wb') as f:\n",
    "    pickle.dump(composition_vectors, f)"
   ]
  },
  {
   "cell_type": "code",
   "execution_count": 22,
   "metadata": {},
   "outputs": [],
   "source": [
    "# DESERIALIZE\n",
    "import pickle\n",
    "path = \"./temp/composition_vectors.pkl\"\n",
    "with open(path, 'rb') as f:\n",
    "    composition_vectors = pickle.load(f)"
   ]
  },
  {
   "cell_type": "code",
   "execution_count": 12,
   "metadata": {},
   "outputs": [],
   "source": [
    "def similar_to(table, column=None, threshold=0.2):\n",
    "    similar_items = []\n",
    "    if column is None:\n",
    "        key = table\n",
    "    else:\n",
    "        key = table + \".\" + column\n",
    "    for k, we in composition_vectors.items():\n",
    "        distance = 0\n",
    "        try:\n",
    "            distance = cosine(composition_vectors[key], composition_vectors[k])\n",
    "        except ValueError:\n",
    "            continue\n",
    "        if distance < threshold:\n",
    "            similar_items.append(k)\n",
    "    return similar_items"
   ]
  },
  {
   "cell_type": "code",
   "execution_count": 13,
   "metadata": {},
   "outputs": [
    {
     "name": "stdout",
     "output_type": "stream",
     "text": [
      "Fac_building.csv.Building Name Long\n",
      "Fclt_building.csv.Building Name\n",
      "Buildings.csv.Building Name\n",
      "Fclt_building_list.csv.Building Name\n",
      "Fclt_building.csv.Building Name Long\n",
      "Fac_building.csv.Building Name\n",
      "Fclt_building_hist_1.csv.Building Name Long\n",
      "Fclt_building_list.csv.Building Name Long\n",
      "Fclt_building_hist_1.csv.Building Name\n"
     ]
    }
   ],
   "source": [
    "table = \"Fac_building.csv\"\n",
    "column = \"Building Name Long\"\n",
    "#key = \"Tables.csv.Business Contact Email\"\n",
    "threshold = 0.2\n",
    "sim_items = similar_to(table, column=column)\n",
    "for el in sim_items:\n",
    "    print(str(el))"
   ]
  },
  {
   "cell_type": "code",
   "execution_count": 14,
   "metadata": {},
   "outputs": [
    {
     "name": "stdout",
     "output_type": "stream",
     "text": [
      "short_subject_summary.csv.Department Name\n",
      "short_tip_subject_offered.csv.Master Course Number Desc\n",
      "short_cis_course_catalog.csv.Department Name\n",
      "short_subjects_offered.csv.Master Course Number Desc\n",
      "Student_department.csv.Department Name\n",
      "short_subjects_offered.csv.Course Number Desc\n",
      "short_subjects_offered.csv.Offer Dept Name\n",
      "subject_grouping_slice.csv.Department Name\n",
      "short_subject_offered_summary.csv.Offer Dept Name\n",
      "Library_subject_offered.csv.Offer Dept Name\n",
      "Library_subject_offered.csv.Course Number Desc\n",
      "Library_subject_offered.csv.Master Course Number Desc\n",
      "short_drupal_course_catalog.csv.Department Name\n",
      "Sis_course_description.csv.Department Name\n",
      "Mit_student_directory.csv.Department Name\n",
      "short_tip_subject_offered.csv.Course Number Desc\n",
      "short_course_catalog_subject_offered.csv.Department Name\n",
      "short_tip_subject_offered.csv.Offer Dept Name\n"
     ]
    }
   ],
   "source": [
    "table = \"Library_subject_offered.csv\"\n",
    "column = \"Course Number Desc\"\n",
    "sim_items = similar_to(table, column)\n",
    "for el in sim_items:\n",
    "    print(str(el))"
   ]
  },
  {
   "cell_type": "code",
   "execution_count": 15,
   "metadata": {
    "scrolled": true
   },
   "outputs": [
    {
     "name": "stdout",
     "output_type": "stream",
     "text": [
      "Warehouse_users.csv.Title\n",
      "Hr_faculty_roster.csv.Middle Name\n",
      "Employee_directory.csv.Middle Name\n",
      "Se_person.csv.Middle Name\n",
      "Drupal_employee_directory.csv.Middle Name\n",
      "Warehouse_users.csv\n",
      "Warehouse_users.csv.Middle Name\n",
      "Mit_student_directory.csv.Middle Name\n"
     ]
    }
   ],
   "source": [
    "table = \"Warehouse_users.csv\"\n",
    "sim_items = similar_to(table)\n",
    "for el in sim_items:\n",
    "    print(str(el))"
   ]
  },
  {
   "cell_type": "code",
   "execution_count": 16,
   "metadata": {
    "scrolled": true
   },
   "outputs": [
    {
     "name": "stdout",
     "output_type": "stream",
     "text": [
      "Fclt_building_list.csv\n",
      "Fac_building.csv\n",
      "Fclt_building_hist_1.csv\n",
      "Fclt_building.csv\n"
     ]
    }
   ],
   "source": [
    "table = \"Fac_building.csv\"\n",
    "sim_items = similar_to(table, threshold=0.1)\n",
    "for el in sim_items:\n",
    "    print(str(el))"
   ]
  },
  {
   "cell_type": "markdown",
   "metadata": {},
   "source": [
    "### Other examples"
   ]
  },
  {
   "cell_type": "code",
   "execution_count": 25,
   "metadata": {
    "collapsed": true
   },
   "outputs": [],
   "source": [
    "path_to_relation = \"/data/datasets/mitdwh/Se_person.csv\"\n",
    "col_we_se, missing_words = composition.column_avg_composition(path_to_relation, model)"
   ]
  },
  {
   "cell_type": "code",
   "execution_count": 26,
   "metadata": {
    "collapsed": true
   },
   "outputs": [],
   "source": [
    "path_to_relation = \"/data/datasets/mitdwh/Drupal_employee_directory.csv\"\n",
    "col_we_drupal, missing_words = composition.column_avg_composition(path_to_relation, model)"
   ]
  },
  {
   "cell_type": "code",
   "execution_count": 27,
   "metadata": {
    "collapsed": true
   },
   "outputs": [],
   "source": [
    "se_vec = composition.relation_column_composition(col_we_se)\n",
    "drupal_vec = composition.relation_column_composition(col_we_drupal)"
   ]
  },
  {
   "cell_type": "code",
   "execution_count": 28,
   "metadata": {},
   "outputs": [
    {
     "data": {
      "text/plain": [
       "0.17816106687438826"
      ]
     },
     "execution_count": 28,
     "metadata": {},
     "output_type": "execute_result"
    }
   ],
   "source": [
    "cosine(se_vec, drupal_vec)"
   ]
  },
  {
   "cell_type": "code",
   "execution_count": 30,
   "metadata": {},
   "outputs": [
    {
     "name": "stdout",
     "output_type": "stream",
     "text": [
      "Is Active -sim- Organization is: 0.71580180098\n",
      "Is Active -sim- Last Name is: 0.754346633966\n",
      "Is Active -sim- Employee Type is: 0.593234068665\n",
      "Is Active -sim- Krb Name is: 0.743188209349\n",
      "Is Active -sim- Full Name is: 0.773458063759\n",
      "Is Active -sim- Mit Id is: 0.713277708397\n",
      "Is Active -sim- Office Location is: 1.04746727659\n",
      "Is Active -sim- Position Title is: 0.654582383524\n",
      "Is Active -sim- Payroll Rank is: 0.545001600076\n",
      "Is Active -sim- Middle Name is: 1.0106378701\n",
      "Is Active -sim- First Name is: 0.649957258588\n",
      "Organization -sim- Last Name is: 0.550844356843\n",
      "Organization -sim- Employee Type is: 0.431105480558\n",
      "Organization -sim- Krb Name is: 0.49305379079\n",
      "Organization -sim- Full Name is: 0.608568961034\n",
      "Organization -sim- Mit Id is: 0.414800770861\n",
      "Organization -sim- Office Location is: 0.929235802932\n",
      "Organization -sim- Position Title is: 0.720257754811\n",
      "Organization -sim- Payroll Rank is: 0.33552013582\n",
      "Organization -sim- Middle Name is: 0.905511666916\n",
      "Organization -sim- First Name is: 0.561555216503\n",
      "Last Name -sim- Employee Type is: 0.362954472489\n",
      "Last Name -sim- Krb Name is: 0.295420368456\n",
      "Last Name -sim- Full Name is: 0.454607078177\n",
      "Last Name -sim- Mit Id is: 0.319632400995\n",
      "Last Name -sim- Office Location is: 0.997328130513\n",
      "Last Name -sim- Position Title is: 0.404027605536\n",
      "Last Name -sim- Payroll Rank is: 0.32927592587\n",
      "Last Name -sim- Middle Name is: 0.859279028509\n",
      "Last Name -sim- First Name is: 0.346828339537\n",
      "Employee Type -sim- Krb Name is: 0.517328465819\n",
      "Employee Type -sim- Full Name is: 0.4401976254\n",
      "Employee Type -sim- Mit Id is: 0.467197385248\n",
      "Employee Type -sim- Office Location is: 0.836629550951\n",
      "Employee Type -sim- Position Title is: 0.343269325702\n",
      "Employee Type -sim- Payroll Rank is: 0.241101433244\n",
      "Employee Type -sim- Middle Name is: 0.663724994313\n",
      "Employee Type -sim- First Name is: 0.34007372089\n",
      "Krb Name -sim- Full Name is: 0.557900991176\n",
      "Krb Name -sim- Mit Id is: 0.311326423085\n",
      "Krb Name -sim- Office Location is: 0.777663368756\n",
      "Krb Name -sim- Position Title is: 0.544934777716\n",
      "Krb Name -sim- Payroll Rank is: 0.436924023744\n",
      "Krb Name -sim- Middle Name is: 0.805030529853\n",
      "Krb Name -sim- First Name is: 0.458600620947\n",
      "Full Name -sim- Mit Id is: 0.391483672854\n",
      "Full Name -sim- Office Location is: 0.796776409657\n",
      "Full Name -sim- Position Title is: 0.561084084473\n",
      "Full Name -sim- Payroll Rank is: 0.448543079231\n",
      "Full Name -sim- Middle Name is: 0.921796223956\n",
      "Full Name -sim- First Name is: 0.48946810187\n",
      "Mit Id -sim- Office Location is: 0.785789253889\n",
      "Mit Id -sim- Position Title is: 0.486009030033\n",
      "Mit Id -sim- Payroll Rank is: 0.358709093937\n",
      "Mit Id -sim- Middle Name is: 0.994082208536\n",
      "Mit Id -sim- First Name is: 0.473613931563\n",
      "Office Location -sim- Position Title is: 0.919045628029\n",
      "Office Location -sim- Payroll Rank is: 0.918062745733\n",
      "Office Location -sim- Middle Name is: 0.423017479676\n",
      "Office Location -sim- First Name is: 1.13048935568\n",
      "Position Title -sim- Payroll Rank is: 0.500994804155\n",
      "Position Title -sim- Middle Name is: 0.71174906164\n",
      "Position Title -sim- First Name is: 0.369511225292\n",
      "Payroll Rank -sim- Middle Name is: 0.775288338609\n",
      "Payroll Rank -sim- First Name is: 0.340674410919\n",
      "Middle Name -sim- First Name is: 0.735978605252\n"
     ]
    }
   ],
   "source": [
    "for a, b in itertools.combinations(col_we_se.keys(), 2):\n",
    "    we_a = col_we_se[a]\n",
    "    we_b = col_we_se[b]\n",
    "\n",
    "    cos = cosine(we_a, we_b)\n",
    "    print(str(a) + \" -sim- \" + str(b) + \" is: \" + str(cos))"
   ]
  },
  {
   "cell_type": "code",
   "execution_count": null,
   "metadata": {
    "collapsed": true
   },
   "outputs": [],
   "source": []
  },
  {
   "cell_type": "code",
   "execution_count": null,
   "metadata": {
    "collapsed": true
   },
   "outputs": [],
   "source": []
  }
 ],
 "metadata": {
  "kernelspec": {
   "display_name": "Python 3",
   "language": "python",
   "name": "python3"
  },
  "language_info": {
   "codemirror_mode": {
    "name": "ipython",
    "version": 3
   },
   "file_extension": ".py",
   "mimetype": "text/x-python",
   "name": "python",
   "nbconvert_exporter": "python",
   "pygments_lexer": "ipython3",
   "version": "3.5.2"
  }
 },
 "nbformat": 4,
 "nbformat_minor": 2
}
