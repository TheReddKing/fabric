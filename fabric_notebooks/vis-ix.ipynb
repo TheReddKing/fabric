{
 "cells": [
  {
   "cell_type": "markdown",
   "metadata": {},
   "source": [
    "# Interactive vis"
   ]
  },
  {
   "cell_type": "code",
   "execution_count": 1,
   "metadata": {
    "collapsed": true
   },
   "outputs": [],
   "source": [
    "import pickle"
   ]
  },
  {
   "cell_type": "code",
   "execution_count": 2,
   "metadata": {
    "collapsed": true
   },
   "outputs": [],
   "source": [
    "with open(\"/Users/ra-mit/vis_server/xs.pkl\", \"rb\") as f:\n",
    "    X_tsne = pickle.load(f)\n",
    "with open(\"/Users/ra-mit/vis_server/ys.pkl\", \"rb\") as f:\n",
    "    Y = pickle.load(f)\n",
    "with open(\"/Users/ra-mit/vis_server/labels.pkl\", \"rb\") as f:\n",
    "    labels = pickle.load(f)"
   ]
  },
  {
   "cell_type": "code",
   "execution_count": 3,
   "metadata": {
    "scrolled": true
   },
   "outputs": [
    {
     "name": "stderr",
     "output_type": "stream",
     "text": [
      "Using TensorFlow backend.\n"
     ]
    }
   ],
   "source": [
    "from architectures import visualizer"
   ]
  },
  {
   "cell_type": "code",
   "execution_count": 4,
   "metadata": {
    "collapsed": true
   },
   "outputs": [],
   "source": [
    "c_iap = [\"Iap_subject_person\", \"Person Location\", \"Person Mit Affiliation\", \"Staff\", \"Person Email\"]\n",
    "c_iap2 = [\"Iap Subject Person Key\", \"Iap_subject_session\", \"Session Start Time\", \"Session Sequence\"]\n",
    "c_mit = [\"Mit_student_directory\", \"Employee Group\", \"Drupal_employee_directory\", \"Se_person\", \"Office Location\"]\n",
    "c_fac = [\"Fac_building\", \"Fac Building Key\", \"Parent Building Name\", \"Ownership Type\", \"Fclt_building\"]\n",
    "c_subject = [\"Iap_subject_detail\", \"Prereg Deadline\", \"Iap Subject Sponsor Key\", \"Fee Reason\"]\n",
    "c_sis = [\"Sis_course_description\", \"Cip Program Code\", \"Sis Course Description Key\"]\n",
    "c_sdo = [\"Sdo_area_units\", \"Sdo Unit\", \"Square Centimeter\", \"Conversion Factor\", \"Sdo_angle_units\"]\n",
    "c_employee = [\"Employee_directory\", \"Email Address\", \"Department Number\", \"Office Phone\", \"Personal Url\"]\n",
    "annotations_c = c_iap + c_iap2 + c_mit + c_fac + c_subject + c_sis + c_sdo + c_employee"
   ]
  },
  {
   "cell_type": "code",
   "execution_count": 5,
   "metadata": {},
   "outputs": [
    {
     "name": "stderr",
     "output_type": "stream",
     "text": [
      "/Users/ra-mit/development/virtualenvs/fabric/lib/python3.5/site-packages/matplotlib/figure.py:403: UserWarning: matplotlib is currently using a non-GUI backend, so cannot show the figure\n",
      "  \"matplotlib is currently using a non-GUI backend, \"\n"
     ]
    }
   ],
   "source": [
    "import matplotlib\n",
    "#matplotlib.use('Agg')\n",
    "import matplotlib.pyplot as plt\n",
    "\n",
    "annotations = annotations_c\n",
    "# annotations = [\"barbara\", \"mitre\", \"california\", \"harvard\", \"guttag\", \"lampson\", \"madden\", \n",
    "#          \"cmt\", \"mobile sensing\",\n",
    "#             \"turing award\", \"nickolai\", \"nickolai@mit.edu\", \"alizadeh@mit.edu\", \"email address\", \"stonebraker\", \"ingres\", \n",
    "#                \"vertica\", \"morpheus project\", \"c store\", \"h store project\", \"sam\", \n",
    "#                \"column oriented database system\", \"frans\", \"vrije universiteit amsterdam\", \"mazu networks\", \n",
    "#                \"board directors empirix\", \"ieee john von neumann medal\",\n",
    "#               \"mobile technology\", \"john macarthy\", \"dina katabi\", \n",
    "#                \"macarthur genius grants\", \"project genie\", \"fellow computer history museum\"]\n",
    "visualizer.plot_embedding(X_tsne, Y=Y, labels=labels, annotations=annotations)"
   ]
  },
  {
   "cell_type": "code",
   "execution_count": 6,
   "metadata": {
    "collapsed": true
   },
   "outputs": [],
   "source": [
    "plt.show()"
   ]
  },
  {
   "cell_type": "code",
   "execution_count": 7,
   "metadata": {
    "scrolled": true
   },
   "outputs": [
    {
     "name": "stdout",
     "output_type": "stream",
     "text": [
      "Saving plot to: data/mit.pdf\n"
     ]
    }
   ],
   "source": [
    "output_file_path=\"data/mit.pdf\"\n",
    "print(\"Saving plot to: \" + str(output_file_path))\n",
    "plt.savefig(output_file_path, bbox_inches='tight')\n",
    "plt.show()"
   ]
  },
  {
   "cell_type": "markdown",
   "metadata": {},
   "source": [
    "### matplotlib setup"
   ]
  },
  {
   "cell_type": "code",
   "execution_count": 7,
   "metadata": {
    "collapsed": true
   },
   "outputs": [],
   "source": [
    "import matplotlib"
   ]
  },
  {
   "cell_type": "code",
   "execution_count": 8,
   "metadata": {},
   "outputs": [
    {
     "data": {
      "text/plain": [
       "'/Users/ra-mit/.matplotlib/matplotlibrc'"
      ]
     },
     "execution_count": 8,
     "metadata": {},
     "output_type": "execute_result"
    }
   ],
   "source": [
    "matplotlib.matplotlib_fname()"
   ]
  },
  {
   "cell_type": "code",
   "execution_count": 9,
   "metadata": {},
   "outputs": [
    {
     "name": "stdout",
     "output_type": "stream",
     "text": [
      "['GTK', 'GTKAgg', 'GTKCairo', 'MacOSX', 'Qt4Agg', 'Qt5Agg', 'TkAgg', 'WX', 'WXAgg', 'GTK3Cairo', 'GTK3Agg', 'WebAgg', 'nbAgg', 'agg', 'cairo', 'gdk', 'pdf', 'pgf', 'ps', 'svg', 'template']\n"
     ]
    }
   ],
   "source": [
    "import matplotlib.rcsetup as rcsetup\n",
    "print(rcsetup.all_backends)"
   ]
  },
  {
   "cell_type": "code",
   "execution_count": null,
   "metadata": {
    "collapsed": true
   },
   "outputs": [],
   "source": []
  }
 ],
 "metadata": {
  "kernelspec": {
   "display_name": "Python 3",
   "language": "python",
   "name": "python3"
  },
  "language_info": {
   "codemirror_mode": {
    "name": "ipython",
    "version": 3
   },
   "file_extension": ".py",
   "mimetype": "text/x-python",
   "name": "python",
   "nbconvert_exporter": "python",
   "pygments_lexer": "ipython3",
   "version": "3.5.0"
  }
 },
 "nbformat": 4,
 "nbformat_minor": 2
}
